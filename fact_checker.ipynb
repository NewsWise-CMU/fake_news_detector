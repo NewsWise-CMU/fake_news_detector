{
 "cells": [
  {
   "cell_type": "code",
   "execution_count": 31,
   "metadata": {},
   "outputs": [],
   "source": [
    "import os\n",
    "from dotenv import load_dotenv\n",
    "import openai\n",
    "import requests\n",
    "import json\n",
    "import pandas as pd"
   ]
  },
  {
   "cell_type": "code",
   "execution_count": 32,
   "metadata": {},
   "outputs": [],
   "source": [
    "load_dotenv()\n",
    "CB_API_KEY = os.getenv('CB_API_KEY')\n",
    "openai.api_key_path = None\n",
    "openai.api_key = os.getenv(\"OPENAI_API_KEY\")"
   ]
  },
  {
   "cell_type": "code",
   "execution_count": 33,
   "metadata": {},
   "outputs": [
    {
     "data": {
      "text/html": [
       "<div>\n",
       "<style scoped>\n",
       "    .dataframe tbody tr th:only-of-type {\n",
       "        vertical-align: middle;\n",
       "    }\n",
       "\n",
       "    .dataframe tbody tr th {\n",
       "        vertical-align: top;\n",
       "    }\n",
       "\n",
       "    .dataframe thead th {\n",
       "        text-align: right;\n",
       "    }\n",
       "</style>\n",
       "<table border=\"1\" class=\"dataframe\">\n",
       "  <thead>\n",
       "    <tr style=\"text-align: right;\">\n",
       "      <th></th>\n",
       "      <th>id</th>\n",
       "      <th>title</th>\n",
       "      <th>author</th>\n",
       "      <th>text</th>\n",
       "      <th>label</th>\n",
       "    </tr>\n",
       "  </thead>\n",
       "  <tbody>\n",
       "    <tr>\n",
       "      <th>0</th>\n",
       "      <td>0</td>\n",
       "      <td>House Dem Aide: We Didn’t Even See Comey’s Let...</td>\n",
       "      <td>Darrell Lucus</td>\n",
       "      <td>House Dem Aide: We Didn’t Even See Comey’s Let...</td>\n",
       "      <td>1</td>\n",
       "    </tr>\n",
       "    <tr>\n",
       "      <th>1</th>\n",
       "      <td>1</td>\n",
       "      <td>FLYNN: Hillary Clinton, Big Woman on Campus - ...</td>\n",
       "      <td>Daniel J. Flynn</td>\n",
       "      <td>Ever get the feeling your life circles the rou...</td>\n",
       "      <td>0</td>\n",
       "    </tr>\n",
       "    <tr>\n",
       "      <th>2</th>\n",
       "      <td>2</td>\n",
       "      <td>Why the Truth Might Get You Fired</td>\n",
       "      <td>Consortiumnews.com</td>\n",
       "      <td>Why the Truth Might Get You Fired October 29, ...</td>\n",
       "      <td>1</td>\n",
       "    </tr>\n",
       "    <tr>\n",
       "      <th>3</th>\n",
       "      <td>3</td>\n",
       "      <td>15 Civilians Killed In Single US Airstrike Hav...</td>\n",
       "      <td>Jessica Purkiss</td>\n",
       "      <td>Videos 15 Civilians Killed In Single US Airstr...</td>\n",
       "      <td>1</td>\n",
       "    </tr>\n",
       "    <tr>\n",
       "      <th>4</th>\n",
       "      <td>4</td>\n",
       "      <td>Iranian woman jailed for fictional unpublished...</td>\n",
       "      <td>Howard Portnoy</td>\n",
       "      <td>Print \\nAn Iranian woman has been sentenced to...</td>\n",
       "      <td>1</td>\n",
       "    </tr>\n",
       "    <tr>\n",
       "      <th>...</th>\n",
       "      <td>...</td>\n",
       "      <td>...</td>\n",
       "      <td>...</td>\n",
       "      <td>...</td>\n",
       "      <td>...</td>\n",
       "    </tr>\n",
       "    <tr>\n",
       "      <th>20795</th>\n",
       "      <td>20795</td>\n",
       "      <td>Rapper T.I.: Trump a ’Poster Child For White S...</td>\n",
       "      <td>Jerome Hudson</td>\n",
       "      <td>Rapper T. I. unloaded on black celebrities who...</td>\n",
       "      <td>0</td>\n",
       "    </tr>\n",
       "    <tr>\n",
       "      <th>20796</th>\n",
       "      <td>20796</td>\n",
       "      <td>N.F.L. Playoffs: Schedule, Matchups and Odds -...</td>\n",
       "      <td>Benjamin Hoffman</td>\n",
       "      <td>When the Green Bay Packers lost to the Washing...</td>\n",
       "      <td>0</td>\n",
       "    </tr>\n",
       "    <tr>\n",
       "      <th>20797</th>\n",
       "      <td>20797</td>\n",
       "      <td>Macy’s Is Said to Receive Takeover Approach by...</td>\n",
       "      <td>Michael J. de la Merced and Rachel Abrams</td>\n",
       "      <td>The Macy’s of today grew from the union of sev...</td>\n",
       "      <td>0</td>\n",
       "    </tr>\n",
       "    <tr>\n",
       "      <th>20798</th>\n",
       "      <td>20798</td>\n",
       "      <td>NATO, Russia To Hold Parallel Exercises In Bal...</td>\n",
       "      <td>Alex Ansary</td>\n",
       "      <td>NATO, Russia To Hold Parallel Exercises In Bal...</td>\n",
       "      <td>1</td>\n",
       "    </tr>\n",
       "    <tr>\n",
       "      <th>20799</th>\n",
       "      <td>20799</td>\n",
       "      <td>What Keeps the F-35 Alive</td>\n",
       "      <td>David Swanson</td>\n",
       "      <td>David Swanson is an author, activist, journa...</td>\n",
       "      <td>1</td>\n",
       "    </tr>\n",
       "  </tbody>\n",
       "</table>\n",
       "<p>20800 rows × 5 columns</p>\n",
       "</div>"
      ],
      "text/plain": [
       "          id                                              title  \\\n",
       "0          0  House Dem Aide: We Didn’t Even See Comey’s Let...   \n",
       "1          1  FLYNN: Hillary Clinton, Big Woman on Campus - ...   \n",
       "2          2                  Why the Truth Might Get You Fired   \n",
       "3          3  15 Civilians Killed In Single US Airstrike Hav...   \n",
       "4          4  Iranian woman jailed for fictional unpublished...   \n",
       "...      ...                                                ...   \n",
       "20795  20795  Rapper T.I.: Trump a ’Poster Child For White S...   \n",
       "20796  20796  N.F.L. Playoffs: Schedule, Matchups and Odds -...   \n",
       "20797  20797  Macy’s Is Said to Receive Takeover Approach by...   \n",
       "20798  20798  NATO, Russia To Hold Parallel Exercises In Bal...   \n",
       "20799  20799                          What Keeps the F-35 Alive   \n",
       "\n",
       "                                          author  \\\n",
       "0                                  Darrell Lucus   \n",
       "1                                Daniel J. Flynn   \n",
       "2                             Consortiumnews.com   \n",
       "3                                Jessica Purkiss   \n",
       "4                                 Howard Portnoy   \n",
       "...                                          ...   \n",
       "20795                              Jerome Hudson   \n",
       "20796                           Benjamin Hoffman   \n",
       "20797  Michael J. de la Merced and Rachel Abrams   \n",
       "20798                                Alex Ansary   \n",
       "20799                              David Swanson   \n",
       "\n",
       "                                                    text  label  \n",
       "0      House Dem Aide: We Didn’t Even See Comey’s Let...      1  \n",
       "1      Ever get the feeling your life circles the rou...      0  \n",
       "2      Why the Truth Might Get You Fired October 29, ...      1  \n",
       "3      Videos 15 Civilians Killed In Single US Airstr...      1  \n",
       "4      Print \\nAn Iranian woman has been sentenced to...      1  \n",
       "...                                                  ...    ...  \n",
       "20795  Rapper T. I. unloaded on black celebrities who...      0  \n",
       "20796  When the Green Bay Packers lost to the Washing...      0  \n",
       "20797  The Macy’s of today grew from the union of sev...      0  \n",
       "20798  NATO, Russia To Hold Parallel Exercises In Bal...      1  \n",
       "20799    David Swanson is an author, activist, journa...      1  \n",
       "\n",
       "[20800 rows x 5 columns]"
      ]
     },
     "execution_count": 33,
     "metadata": {},
     "output_type": "execute_result"
    }
   ],
   "source": [
    "fake_news_articles = pd.read_csv(\"data/fake-news/train.csv\")\n",
    "fake_news_articles"
   ]
  },
  {
   "cell_type": "code",
   "execution_count": 67,
   "metadata": {},
   "outputs": [],
   "source": [
    "article_content = \"\"\"World War II or the Second World War, often abbreviated as WWII or WW2, was a global conflict that lasted from 1939 to 1945. The vast majority of the world's countries, including all of the great powers, fought as part of two opposing military alliances: the Allies and the Axis. Many participants threw their economic, industrial, and scientific capabilities behind this total war, blurring the distinction between civilian and military resources. Aircraft played a major role, enabling the strategic bombing of population centres and the delivery of the only two nuclear weapons ever used in war.\n",
    "\n",
    "World War II was by far the deadliest conflict in history, resulting in an estimated 70 to 85 million fatalities, mostly among civilians. Tens of millions died due to genocides (including the Holocaust), starvation, massacres, and disease. In the wake of the Axis defeat, Germany and Japan were occupied, and war crimes tribunals were conducted against German and Japanese leaders.\n",
    "\n",
    "The causes of World War II are debated, but contributing factors included the Second Italo-Ethiopian War, Spanish Civil War, Second Sino-Japanese War, Soviet–Japanese border conflicts, the rise of fascism in Europe, and European tensions in the aftermath of World War I. World War II is generally considered to have begun on 1 September 1939, when Nazi Germany, under Adolf Hitler, invaded Poland. The United Kingdom and France subsequently declared war on Germany on 3 September. Under the Molotov–Ribbentrop Pact of August 1939, Germany and the Soviet Union had partitioned Poland and marked out their \"spheres of influence\" across Finland, Estonia, Latvia, Lithuania and Romania. From late 1939 to early 1941, in a series of campaigns and treaties, Germany conquered or controlled much of continental Europe, in a military alliance with Italy, Japan and other countries called the Axis. Following the onset of campaigns in North Africa and East Africa, and the fall of France in mid-1940, the war continued primarily between the European Axis powers and the British Empire, with war in the Balkans, the aerial Battle of Britain, the Blitz of the United Kingdom, and the Battle of the Atlantic. On 22 June 1941, Germany led the European Axis powers in an invasion of the Soviet Union, opening the Eastern Front, the largest land theatre of war in history.\"\"\""
   ]
  },
  {
   "cell_type": "code",
   "execution_count": 35,
   "metadata": {},
   "outputs": [],
   "source": [
    "article_content = fake_news_articles.iloc[0][\"text\"]"
   ]
  },
  {
   "cell_type": "code",
   "execution_count": 36,
   "metadata": {},
   "outputs": [
    {
     "data": {
      "text/plain": [
       "'House Dem Aide: We Didn’t Even See Comey’s Letter Until Jason Chaffetz Tweeted It By Darrell Lucus on October 30, 2016 Subscribe Jason Chaffetz on the stump in American Fork, Utah ( image courtesy Michael Jolley, available under a Creative Commons-BY license) \\nWith apologies to Keith Olbermann, there is no doubt who the Worst Person in The World is this week–FBI Director James Comey. But according to a House Democratic aide, it looks like we also know who the second-worst person is as well. It turns out that when Comey sent his now-infamous letter announcing that the FBI was looking into emails that may be related to Hillary Clinton’s email server, the ranking Democrats on the relevant committees didn’t hear about it from Comey. They found out via a tweet from one of the Republican committee chairmen. \\nAs we now know, Comey notified the Republican chairmen and Democratic ranking members of the House Intelligence, Judiciary, and Oversight committees that his agency was reviewing emails it had recently discovered in order to see if they contained classified information. Not long after this letter went out, Oversight Committee Chairman Jason Chaffetz set the political world ablaze with this tweet. FBI Dir just informed me, \"The FBI has learned of the existence of emails that appear to be pertinent to the investigation.\" Case reopened \\n— Jason Chaffetz (@jasoninthehouse) October 28, 2016 \\nOf course, we now know that this was not the case . Comey was actually saying that it was reviewing the emails in light of “an unrelated case”–which we now know to be Anthony Weiner’s sexting with a teenager. But apparently such little things as facts didn’t matter to Chaffetz. The Utah Republican had already vowed to initiate a raft of investigations if Hillary wins–at least two years’ worth, and possibly an entire term’s worth of them. Apparently Chaffetz thought the FBI was already doing his work for him–resulting in a tweet that briefly roiled the nation before cooler heads realized it was a dud. \\nBut according to a senior House Democratic aide, misreading that letter may have been the least of Chaffetz’ sins. That aide told Shareblue that his boss and other Democrats didn’t even know about Comey’s letter at the time–and only found out when they checked Twitter. “Democratic Ranking Members on the relevant committees didn’t receive Comey’s letter until after the Republican Chairmen. In fact, the Democratic Ranking Members didn’ receive it until after the Chairman of the Oversight and Government Reform Committee, Jason Chaffetz, tweeted it out and made it public.” \\nSo let’s see if we’ve got this right. The FBI director tells Chaffetz and other GOP committee chairmen about a major development in a potentially politically explosive investigation, and neither Chaffetz nor his other colleagues had the courtesy to let their Democratic counterparts know about it. Instead, according to this aide, he made them find out about it on Twitter. \\nThere has already been talk on Daily Kos that Comey himself provided advance notice of this letter to Chaffetz and other Republicans, giving them time to turn on the spin machine. That may make for good theater, but there is nothing so far that even suggests this is the case. After all, there is nothing so far that suggests that Comey was anything other than grossly incompetent and tone-deaf. \\nWhat it does suggest, however, is that Chaffetz is acting in a way that makes Dan Burton and Darrell Issa look like models of responsibility and bipartisanship. He didn’t even have the decency to notify ranking member Elijah Cummings about something this explosive. If that doesn’t trample on basic standards of fairness, I don’t know what does. \\nGranted, it’s not likely that Chaffetz will have to answer for this. He sits in a ridiculously Republican district anchored in Provo and Orem; it has a Cook Partisan Voting Index of R+25, and gave Mitt Romney a punishing 78 percent of the vote in 2012. Moreover, the Republican House leadership has given its full support to Chaffetz’ planned fishing expedition. But that doesn’t mean we can’t turn the hot lights on him. After all, he is a textbook example of what the House has become under Republican control. And he is also the Second Worst Person in the World. About Darrell Lucus \\nDarrell is a 30-something graduate of the University of North Carolina who considers himself a journalist of the old school. An attempt to turn him into a member of the religious right in college only succeeded in turning him into the religious right\\'s worst nightmare--a charismatic Christian who is an unapologetic liberal. His desire to stand up for those who have been scared into silence only increased when he survived an abusive three-year marriage. You may know him on Daily Kos as Christian Dem in NC . Follow him on Twitter @DarrellLucus or connect with him on Facebook . Click here to buy Darrell a Mello Yello. Connect'"
      ]
     },
     "execution_count": 36,
     "metadata": {},
     "output_type": "execute_result"
    }
   ],
   "source": [
    "article_content"
   ]
  },
  {
   "cell_type": "code",
   "execution_count": 50,
   "metadata": {},
   "outputs": [],
   "source": [
    "response = openai.ChatCompletion.create(\n",
    "    model=\"gpt-3.5-turbo\",\n",
    "    messages=[\n",
    "        {\"role\": \"system\", \"content\": \"You are fact and claim detector responsible for extracting the most important facts and claims from a piece of text, usually an article. You will always return a numbered list and nothing else. Each item in the numbered list will always start with the topic of the article.\"},\n",
    "        {\"role\": \"user\", \"content\": \"Give me a numbered list of the most important claims and facts relevant to the argument of the following article. Make sure that each item in the list is a brief, verifiable sentence that contains the claim or fact and any context from the article needed to fact check it. Also give me the argument of the article in as few words as possible. An example of the output is: Argument: Red is the best color.\\n1.Red is the coolest\\n2.Everyone likes the color red.\"},\n",
    "        {\"role\": \"user\", \"content\": article_content}\n",
    "    ]\n",
    ")"
   ]
  },
  {
   "cell_type": "code",
   "execution_count": 51,
   "metadata": {},
   "outputs": [
    {
     "data": {
      "text/plain": [
       "'Argument: House Democrats did not know about Comey’s letter until Republicans tweeted it out.\\n1. House Democrats on relevant committees did not receive Comey’s letter about reopening the investigation into Clinton’s emails. \\n2. Jason Chaffetz tweeted about the discovery of the emails before the letter was sent to the Democratic ranking members on the committees. \\n3. Comey may have notified only Republican committee members in advance, but there is no evidence of this. \\n4. Chaffetz’s behavior was irresponsible and reveals a larger problem with House Republicans.\\n5. Chaffetz is unlikely to face consequences for this behavior due to his strong Republican district and support from House leadership.'"
      ]
     },
     "execution_count": 51,
     "metadata": {},
     "output_type": "execute_result"
    }
   ],
   "source": [
    "response[\"choices\"][0][\"message\"][\"content\"]"
   ]
  },
  {
   "cell_type": "code",
   "execution_count": 38,
   "metadata": {},
   "outputs": [
    {
     "data": {
      "text/plain": [
       "(\"FBI Director James Comey sent out a letter announcing that the FBI was reopening its investigation into Hillary Clinton's email server, which was inadvertently made public via a tweet from Oversight Committee Chairman Jason Chaffetz. It has been revealed that the Democratic Ranking Members on relevant committees had not received the letter until after Chaffetz tweeted it, therefore they found out about the news on Twitter. This has caused much controversy and accusations of partisanship.\",\n",
       " [\"The Democratic Ranking Members on relevant committees had not received Comey's letter about reopening the investigation into Clinton's email server until after Jason Chaffetz tweeted it out and made it public.\",\n",
       "  'The Oversight Committee Chairman, Jason Chaffetz, did not notify his Democratic counterparts about the FBI review of the emails that had been discovered.',\n",
       "  'Chaffetz is acting in a partisan way that violates basic standards of fairness by not notifying ranking member Elijah Cummings of something this explosive.',\n",
       "  'There has been speculation that Comey himself provided advance notice of the letter to Chaffetz and other Republicans, but there is no evidence of this.',\n",
       "  'Chaffetz is the textbook example of what the House has become under Republican control and has a Cook Partisan Voting Index of R+25.'])"
      ]
     },
     "execution_count": 38,
     "metadata": {},
     "output_type": "execute_result"
    }
   ],
   "source": [
    "response_content = response[\"choices\"][0][\"message\"][\"content\"]\n",
    "topic = response_content[response_content.find(\"Argument: \") + 10:response_content.find(\"\\n\")]\n",
    "facts = response_content[response_content.find(\"\\n\") + 2:]\n",
    "facts = [fact[fact.find(\" \") + 1:] for fact in facts.split(\"\\n\")]\n",
    "topic, facts"
   ]
  },
  {
   "cell_type": "code",
   "execution_count": 39,
   "metadata": {},
   "outputs": [
    {
     "data": {
      "text/plain": [
       "<OpenAIObject chat.completion id=chatcmpl-76QXlp59E7ca7y2re0r9eWIuY5iVD at 0x7f7b910afb48> JSON: {\n",
       "  \"choices\": [\n",
       "    {\n",
       "      \"finish_reason\": \"stop\",\n",
       "      \"index\": 0,\n",
       "      \"message\": {\n",
       "        \"content\": \"Argument: FBI Director James Comey sent out a letter announcing that the FBI was reopening its investigation into Hillary Clinton's email server, which was inadvertently made public via a tweet from Oversight Committee Chairman Jason Chaffetz. It has been revealed that the Democratic Ranking Members on relevant committees had not received the letter until after Chaffetz tweeted it, therefore they found out about the news on Twitter. This has caused much controversy and accusations of partisanship.\\n\\n1. The Democratic Ranking Members on relevant committees had not received Comey's letter about reopening the investigation into Clinton's email server until after Jason Chaffetz tweeted it out and made it public.\\n2. The Oversight Committee Chairman, Jason Chaffetz, did not notify his Democratic counterparts about the FBI review of the emails that had been discovered.\\n3. Chaffetz is acting in a partisan way that violates basic standards of fairness by not notifying ranking member Elijah Cummings of something this explosive.\\n4. There has been speculation that Comey himself provided advance notice of the letter to Chaffetz and other Republicans, but there is no evidence of this.\\n5. Chaffetz is the textbook example of what the House has become under Republican control and has a Cook Partisan Voting Index of R+25.\",\n",
       "        \"role\": \"assistant\"\n",
       "      }\n",
       "    }\n",
       "  ],\n",
       "  \"created\": 1681766357,\n",
       "  \"id\": \"chatcmpl-76QXlp59E7ca7y2re0r9eWIuY5iVD\",\n",
       "  \"model\": \"gpt-3.5-turbo-0301\",\n",
       "  \"object\": \"chat.completion\",\n",
       "  \"usage\": {\n",
       "    \"completion_tokens\": 248,\n",
       "    \"prompt_tokens\": 1169,\n",
       "    \"total_tokens\": 1417\n",
       "  }\n",
       "}"
      ]
     },
     "execution_count": 39,
     "metadata": {},
     "output_type": "execute_result"
    }
   ],
   "source": [
    "response"
   ]
  },
  {
   "cell_type": "code",
   "execution_count": 40,
   "metadata": {},
   "outputs": [
    {
     "name": "stdout",
     "output_type": "stream",
     "text": [
      "{'version': '2', 'claim': \"FBI Director James Comey sent out a letter announcing that the FBI was reopening its investigation into Hillary Clinton's email server, which was inadvertently made public via a tweet from Oversight Committee Chairman Jason Chaffetz. It has been revealed that the Democratic Ranking Members on relevant committees had not received the letter until after Chaffetz tweeted it, therefore they found out about the news on Twitter. This has caused much controversy and accusations of partisanship.; The Democratic Ranking Members on relevant committees had not received Comey's letter about reopening the investigation into Clinton's email server until after Jason Chaffetz tweeted it out and made it public.\", 'results': [{'text': \"FBI Director James Comey sent out a letter announcing that the FBI was reopening its investigation into Hillary Clinton's email server, which was inadvertently made public via a tweet from Oversight Committee Chairman Jason Chaffetz. It has been revealed that the Democratic Ranking Members on relevant committees had not received the letter until after Chaffetz tweeted it, therefore they found out about the news on Twitter. This has caused much controversy and accusations of partisanship.; The Democratic Ranking Members on relevant committees had not received Comey's letter about reopening the investigation into Clinton's email server until after Jason Chaffetz tweeted it out and made it public.\", 'index': 0, 'score': 0.7101879881}]}\n"
     ]
    }
   ],
   "source": [
    "api_endpoint = f\"https://idir.uta.edu/claimbuster/api/v2/score/text/{topic + '; ' + facts[0]}\"\n",
    "request_headers = {\"x-api-key\": CB_API_KEY}\n",
    "\n",
    "api_response = requests.get(url=api_endpoint, headers=request_headers)\n",
    "\n",
    "print(api_response.json())"
   ]
  },
  {
   "cell_type": "code",
   "execution_count": 41,
   "metadata": {},
   "outputs": [
    {
     "name": "stdout",
     "output_type": "stream",
     "text": [
      "{'claim': \"The Democratic Ranking Members on relevant committees had not received Comey's letter about reopening the investigation into Clinton's email server until after Jason Chaffetz tweeted it out and made it public.\", 'origin': 'Claim Checker - Knowledge Bases', 'justification': []}\n"
     ]
    }
   ],
   "source": [
    "api_endpoint = f\"https://idir.uta.edu/claimbuster/api/v2/query/knowledge_bases/{facts[0]}\"\n",
    "request_headers = {\"x-api-key\": CB_API_KEY}\n",
    "\n",
    "api_response = requests.get(url=api_endpoint, headers=request_headers)\n",
    "\n",
    "print(api_response.json())"
   ]
  },
  {
   "cell_type": "code",
   "execution_count": 42,
   "metadata": {},
   "outputs": [
    {
     "name": "stdout",
     "output_type": "stream",
     "text": [
      "{'claim': \"The Democratic Ranking Members on relevant committees had not received Comey's letter about reopening the investigation into Clinton's email server until after Jason Chaffetz tweeted it out and made it public.\", 'origin': 'Claim Matcher', 'justification': []}\n"
     ]
    }
   ],
   "source": [
    "api_endpoint = f\"https://idir.uta.edu/claimbuster/api/v2/query/fact_matcher/{facts[0]}\"\n",
    "request_headers = {\"x-api-key\": CB_API_KEY}\n",
    "\n",
    "api_response = requests.get(url=api_endpoint, headers=request_headers)\n",
    "\n",
    "print(api_response.json())"
   ]
  },
  {
   "cell_type": "code",
   "execution_count": 82,
   "metadata": {},
   "outputs": [],
   "source": [
    "def score_facts_for_validation(facts):\n",
    "    api_endpoint = f\"https://idir.uta.edu/claimbuster/api/v2/score/text/sentences/{' '.join(facts)}\"\n",
    "    request_headers = {\"x-api-key\": CB_API_KEY}\n",
    "\n",
    "    api_response = requests.get(url=api_endpoint, headers=request_headers)\n",
    "\n",
    "    return api_response.json()['results']\n",
    "\n",
    "def get_justification(fact):\n",
    "    api_endpoint = f\"https://idir.uta.edu/claimbuster/api/v2/query/knowledge_bases/{fact}\"\n",
    "    request_headers = {\"x-api-key\": CB_API_KEY}\n",
    "\n",
    "    api_response = requests.get(url=api_endpoint, headers=request_headers)\n",
    "\n",
    "    return api_response.json()['justification']\n",
    "\n",
    "def get_matching_facts(fact):\n",
    "    api_endpoint = f\"https://idir.uta.edu/claimbuster/api/v2/query/fact_matcher/{fact}\"\n",
    "    request_headers = {\"x-api-key\": CB_API_KEY}\n",
    "\n",
    "    api_response = requests.get(url=api_endpoint, headers=request_headers)\n",
    "\n",
    "    return api_response.json()['justification']\n",
    "    \n",
    "def get_topic_and_claims(article_text):\n",
    "    response = openai.ChatCompletion.create(\n",
    "        model=\"gpt-3.5-turbo\",\n",
    "        messages=[\n",
    "            {\"role\": \"system\", \"content\": \"You are fact and claim detector responsible for extracting the most important facts and claims from a piece of text, usually an article. You will always return a numbered list and nothing else. Each item in the numbered list will always start with the topic of the article.\"},\n",
    "            {\"role\": \"user\", \"content\": \"Give me a numbered list of the most important claims and facts relevant to the argument of the following article. Make sure that each item in the list is a brief, verifiable sentence that contains the claim or fact and any context from the article needed to fact check it. Also give me the argument of the article in as few words as possible. An example of the output is: Argument: World War II was a major global conflict.\\n1. World War II began in 1939\\n2. 27 million people died during World War II\"},\n",
    "            {\"role\": \"user\", \"content\": article_content}\n",
    "        ]\n",
    "    )\n",
    "    \n",
    "    response_content = response[\"choices\"][0][\"message\"][\"content\"]\n",
    "    topic = response_content[response_content.find(\"Argument: \") + 10:response_content.find(\"\\n\")]\n",
    "    facts = response_content[response_content.find(\"\\n\") + 2:]\n",
    "    facts = [fact[fact.find(\" \") + 1:] for fact in facts.split(\"\\n\")]\n",
    "    return topic, facts\n",
    "\n",
    "def validate_facts(topic, facts):\n",
    "    facts = [topic] + facts\n",
    "    scores = score_facts_for_validation(facts)\n",
    "    \n",
    "    print(f\"Topic: {topic}\")\n",
    "    for i in range(len(facts)):\n",
    "        print(\"------------------------\")\n",
    "        print(f\"Fact: {facts[i]}\")\n",
    "        print(f\"Score: {scores[i]['score']}\")\n",
    "        if scores[i]['score'] > 0.5:\n",
    "            sentence = facts[i]\n",
    "            justification = get_justification(sentence)\n",
    "            print(f\"Justification: {justification}\")\n",
    "            matches = get_matching_facts(sentence)\n",
    "            print(f\"Matches: {matches}\")"
   ]
  },
  {
   "cell_type": "code",
   "execution_count": 68,
   "metadata": {},
   "outputs": [],
   "source": [
    "topic, facts = get_topic_and_claims(article_content)"
   ]
  },
  {
   "cell_type": "code",
   "execution_count": null,
   "metadata": {},
   "outputs": [],
   "source": [
    "validate_facts(topic, facts)"
   ]
  },
  {
   "cell_type": "code",
   "execution_count": null,
   "metadata": {},
   "outputs": [],
   "source": []
  },
  {
   "cell_type": "code",
   "execution_count": null,
   "metadata": {},
   "outputs": [],
   "source": []
  }
 ],
 "metadata": {
  "kernelspec": {
   "display_name": "Python 3",
   "language": "python",
   "name": "python3"
  },
  "language_info": {
   "codemirror_mode": {
    "name": "ipython",
    "version": 3
   },
   "file_extension": ".py",
   "mimetype": "text/x-python",
   "name": "python",
   "nbconvert_exporter": "python",
   "pygments_lexer": "ipython3",
   "version": "3.9.1"
  }
 },
 "nbformat": 4,
 "nbformat_minor": 5
}
