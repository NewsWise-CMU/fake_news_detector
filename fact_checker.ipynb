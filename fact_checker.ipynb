{
 "cells": [
  {
   "cell_type": "code",
   "execution_count": 3,
   "id": "8504c322",
   "metadata": {},
   "outputs": [],
   "source": [
    "import os\n",
    "from dotenv import load_dotenv\n",
    "import openai\n",
    "import requests\n",
    "import json\n",
    "import pandas as pd"
   ]
  },
  {
   "cell_type": "code",
   "execution_count": 4,
   "id": "924d1c31",
   "metadata": {},
   "outputs": [],
   "source": [
    "load_dotenv()\n",
    "CB_API_KEY = os.getenv('CB_API_KEY')\n",
    "openai.api_key_path = None\n",
    "openai.api_key = os.getenv(\"OPENAI_API_KEY\")"
   ]
  },
  {
   "cell_type": "code",
   "execution_count": 5,
   "id": "2b958dde",
   "metadata": {},
   "outputs": [
    {
     "data": {
      "text/html": [
       "<div>\n",
       "<style scoped>\n",
       "    .dataframe tbody tr th:only-of-type {\n",
       "        vertical-align: middle;\n",
       "    }\n",
       "\n",
       "    .dataframe tbody tr th {\n",
       "        vertical-align: top;\n",
       "    }\n",
       "\n",
       "    .dataframe thead th {\n",
       "        text-align: right;\n",
       "    }\n",
       "</style>\n",
       "<table border=\"1\" class=\"dataframe\">\n",
       "  <thead>\n",
       "    <tr style=\"text-align: right;\">\n",
       "      <th></th>\n",
       "      <th>id</th>\n",
       "      <th>title</th>\n",
       "      <th>author</th>\n",
       "      <th>text</th>\n",
       "      <th>label</th>\n",
       "    </tr>\n",
       "  </thead>\n",
       "  <tbody>\n",
       "    <tr>\n",
       "      <th>0</th>\n",
       "      <td>0</td>\n",
       "      <td>House Dem Aide: We Didn’t Even See Comey’s Let...</td>\n",
       "      <td>Darrell Lucus</td>\n",
       "      <td>House Dem Aide: We Didn’t Even See Comey’s Let...</td>\n",
       "      <td>1</td>\n",
       "    </tr>\n",
       "    <tr>\n",
       "      <th>1</th>\n",
       "      <td>1</td>\n",
       "      <td>FLYNN: Hillary Clinton, Big Woman on Campus - ...</td>\n",
       "      <td>Daniel J. Flynn</td>\n",
       "      <td>Ever get the feeling your life circles the rou...</td>\n",
       "      <td>0</td>\n",
       "    </tr>\n",
       "    <tr>\n",
       "      <th>2</th>\n",
       "      <td>2</td>\n",
       "      <td>Why the Truth Might Get You Fired</td>\n",
       "      <td>Consortiumnews.com</td>\n",
       "      <td>Why the Truth Might Get You Fired October 29, ...</td>\n",
       "      <td>1</td>\n",
       "    </tr>\n",
       "    <tr>\n",
       "      <th>3</th>\n",
       "      <td>3</td>\n",
       "      <td>15 Civilians Killed In Single US Airstrike Hav...</td>\n",
       "      <td>Jessica Purkiss</td>\n",
       "      <td>Videos 15 Civilians Killed In Single US Airstr...</td>\n",
       "      <td>1</td>\n",
       "    </tr>\n",
       "    <tr>\n",
       "      <th>4</th>\n",
       "      <td>4</td>\n",
       "      <td>Iranian woman jailed for fictional unpublished...</td>\n",
       "      <td>Howard Portnoy</td>\n",
       "      <td>Print \\nAn Iranian woman has been sentenced to...</td>\n",
       "      <td>1</td>\n",
       "    </tr>\n",
       "    <tr>\n",
       "      <th>...</th>\n",
       "      <td>...</td>\n",
       "      <td>...</td>\n",
       "      <td>...</td>\n",
       "      <td>...</td>\n",
       "      <td>...</td>\n",
       "    </tr>\n",
       "    <tr>\n",
       "      <th>20795</th>\n",
       "      <td>20795</td>\n",
       "      <td>Rapper T.I.: Trump a ’Poster Child For White S...</td>\n",
       "      <td>Jerome Hudson</td>\n",
       "      <td>Rapper T. I. unloaded on black celebrities who...</td>\n",
       "      <td>0</td>\n",
       "    </tr>\n",
       "    <tr>\n",
       "      <th>20796</th>\n",
       "      <td>20796</td>\n",
       "      <td>N.F.L. Playoffs: Schedule, Matchups and Odds -...</td>\n",
       "      <td>Benjamin Hoffman</td>\n",
       "      <td>When the Green Bay Packers lost to the Washing...</td>\n",
       "      <td>0</td>\n",
       "    </tr>\n",
       "    <tr>\n",
       "      <th>20797</th>\n",
       "      <td>20797</td>\n",
       "      <td>Macy’s Is Said to Receive Takeover Approach by...</td>\n",
       "      <td>Michael J. de la Merced and Rachel Abrams</td>\n",
       "      <td>The Macy’s of today grew from the union of sev...</td>\n",
       "      <td>0</td>\n",
       "    </tr>\n",
       "    <tr>\n",
       "      <th>20798</th>\n",
       "      <td>20798</td>\n",
       "      <td>NATO, Russia To Hold Parallel Exercises In Bal...</td>\n",
       "      <td>Alex Ansary</td>\n",
       "      <td>NATO, Russia To Hold Parallel Exercises In Bal...</td>\n",
       "      <td>1</td>\n",
       "    </tr>\n",
       "    <tr>\n",
       "      <th>20799</th>\n",
       "      <td>20799</td>\n",
       "      <td>What Keeps the F-35 Alive</td>\n",
       "      <td>David Swanson</td>\n",
       "      <td>David Swanson is an author, activist, journa...</td>\n",
       "      <td>1</td>\n",
       "    </tr>\n",
       "  </tbody>\n",
       "</table>\n",
       "<p>20800 rows × 5 columns</p>\n",
       "</div>"
      ],
      "text/plain": [
       "          id                                              title  \\\n",
       "0          0  House Dem Aide: We Didn’t Even See Comey’s Let...   \n",
       "1          1  FLYNN: Hillary Clinton, Big Woman on Campus - ...   \n",
       "2          2                  Why the Truth Might Get You Fired   \n",
       "3          3  15 Civilians Killed In Single US Airstrike Hav...   \n",
       "4          4  Iranian woman jailed for fictional unpublished...   \n",
       "...      ...                                                ...   \n",
       "20795  20795  Rapper T.I.: Trump a ’Poster Child For White S...   \n",
       "20796  20796  N.F.L. Playoffs: Schedule, Matchups and Odds -...   \n",
       "20797  20797  Macy’s Is Said to Receive Takeover Approach by...   \n",
       "20798  20798  NATO, Russia To Hold Parallel Exercises In Bal...   \n",
       "20799  20799                          What Keeps the F-35 Alive   \n",
       "\n",
       "                                          author  \\\n",
       "0                                  Darrell Lucus   \n",
       "1                                Daniel J. Flynn   \n",
       "2                             Consortiumnews.com   \n",
       "3                                Jessica Purkiss   \n",
       "4                                 Howard Portnoy   \n",
       "...                                          ...   \n",
       "20795                              Jerome Hudson   \n",
       "20796                           Benjamin Hoffman   \n",
       "20797  Michael J. de la Merced and Rachel Abrams   \n",
       "20798                                Alex Ansary   \n",
       "20799                              David Swanson   \n",
       "\n",
       "                                                    text  label  \n",
       "0      House Dem Aide: We Didn’t Even See Comey’s Let...      1  \n",
       "1      Ever get the feeling your life circles the rou...      0  \n",
       "2      Why the Truth Might Get You Fired October 29, ...      1  \n",
       "3      Videos 15 Civilians Killed In Single US Airstr...      1  \n",
       "4      Print \\nAn Iranian woman has been sentenced to...      1  \n",
       "...                                                  ...    ...  \n",
       "20795  Rapper T. I. unloaded on black celebrities who...      0  \n",
       "20796  When the Green Bay Packers lost to the Washing...      0  \n",
       "20797  The Macy’s of today grew from the union of sev...      0  \n",
       "20798  NATO, Russia To Hold Parallel Exercises In Bal...      1  \n",
       "20799    David Swanson is an author, activist, journa...      1  \n",
       "\n",
       "[20800 rows x 5 columns]"
      ]
     },
     "execution_count": 5,
     "metadata": {},
     "output_type": "execute_result"
    }
   ],
   "source": [
    "fake_news_articles = pd.read_csv(\"data/fake-news/train.csv\")\n",
    "fake_news_articles"
   ]
  },
  {
   "cell_type": "code",
   "execution_count": 50,
   "id": "d5b805cb",
   "metadata": {},
   "outputs": [],
   "source": [
    "article_content = \"\"\"World War II or the Second World War, often abbreviated as WWII or WW2, was a global conflict that lasted from 1939 to 1945. The vast majority of the world's countries, including all of the great powers, fought as part of two opposing military alliances: the Allies and the Axis. Many participants threw their economic, industrial, and scientific capabilities behind this total war, blurring the distinction between civilian and military resources. Aircraft played a major role, enabling the strategic bombing of population centres and the delivery of the only two nuclear weapons ever used in war.\n",
    "\n",
    "World War II was by far the deadliest conflict in history, resulting in an estimated 70 to 85 million fatalities, mostly among civilians. Tens of millions died due to genocides (including the Holocaust), starvation, massacres, and disease. In the wake of the Axis defeat, Germany and Japan were occupied, and war crimes tribunals were conducted against German and Japanese leaders.\n",
    "\n",
    "The causes of World War II are debated, but contributing factors included the Second Italo-Ethiopian War, Spanish Civil War, Second Sino-Japanese War, Soviet–Japanese border conflicts, the rise of fascism in Europe, and European tensions in the aftermath of World War I. World War II is generally considered to have begun on 1 September 1939, when Nazi Germany, under Adolf Hitler, invaded Poland. The United Kingdom and France subsequently declared war on Germany on 3 September. Under the Molotov–Ribbentrop Pact of August 1939, Germany and the Soviet Union had partitioned Poland and marked out their \"spheres of influence\" across Finland, Estonia, Latvia, Lithuania and Romania. From late 1939 to early 1941, in a series of campaigns and treaties, Germany conquered or controlled much of continental Europe, in a military alliance with Italy, Japan and other countries called the Axis. Following the onset of campaigns in North Africa and East Africa, and the fall of France in mid-1940, the war continued primarily between the European Axis powers and the British Empire, with war in the Balkans, the aerial Battle of Britain, the Blitz of the United Kingdom, and the Battle of the Atlantic. On 22 June 1941, Germany led the European Axis powers in an invasion of the Soviet Union, opening the Eastern Front, the largest land theatre of war in history.\"\"\""
   ]
  },
  {
   "cell_type": "code",
   "execution_count": 58,
   "id": "998e2cb7",
   "metadata": {},
   "outputs": [],
   "source": [
    "article_content = fake_news_articles.iloc[0][\"text\"]"
   ]
  },
  {
   "cell_type": "code",
   "execution_count": 59,
   "id": "464a7f21",
   "metadata": {},
   "outputs": [
    {
     "data": {
      "text/plain": [
       "'House Dem Aide: We Didn’t Even See Comey’s Letter Until Jason Chaffetz Tweeted It By Darrell Lucus on October 30, 2016 Subscribe Jason Chaffetz on the stump in American Fork, Utah ( image courtesy Michael Jolley, available under a Creative Commons-BY license) \\nWith apologies to Keith Olbermann, there is no doubt who the Worst Person in The World is this week–FBI Director James Comey. But according to a House Democratic aide, it looks like we also know who the second-worst person is as well. It turns out that when Comey sent his now-infamous letter announcing that the FBI was looking into emails that may be related to Hillary Clinton’s email server, the ranking Democrats on the relevant committees didn’t hear about it from Comey. They found out via a tweet from one of the Republican committee chairmen. \\nAs we now know, Comey notified the Republican chairmen and Democratic ranking members of the House Intelligence, Judiciary, and Oversight committees that his agency was reviewing emails it had recently discovered in order to see if they contained classified information. Not long after this letter went out, Oversight Committee Chairman Jason Chaffetz set the political world ablaze with this tweet. FBI Dir just informed me, \"The FBI has learned of the existence of emails that appear to be pertinent to the investigation.\" Case reopened \\n— Jason Chaffetz (@jasoninthehouse) October 28, 2016 \\nOf course, we now know that this was not the case . Comey was actually saying that it was reviewing the emails in light of “an unrelated case”–which we now know to be Anthony Weiner’s sexting with a teenager. But apparently such little things as facts didn’t matter to Chaffetz. The Utah Republican had already vowed to initiate a raft of investigations if Hillary wins–at least two years’ worth, and possibly an entire term’s worth of them. Apparently Chaffetz thought the FBI was already doing his work for him–resulting in a tweet that briefly roiled the nation before cooler heads realized it was a dud. \\nBut according to a senior House Democratic aide, misreading that letter may have been the least of Chaffetz’ sins. That aide told Shareblue that his boss and other Democrats didn’t even know about Comey’s letter at the time–and only found out when they checked Twitter. “Democratic Ranking Members on the relevant committees didn’t receive Comey’s letter until after the Republican Chairmen. In fact, the Democratic Ranking Members didn’ receive it until after the Chairman of the Oversight and Government Reform Committee, Jason Chaffetz, tweeted it out and made it public.” \\nSo let’s see if we’ve got this right. The FBI director tells Chaffetz and other GOP committee chairmen about a major development in a potentially politically explosive investigation, and neither Chaffetz nor his other colleagues had the courtesy to let their Democratic counterparts know about it. Instead, according to this aide, he made them find out about it on Twitter. \\nThere has already been talk on Daily Kos that Comey himself provided advance notice of this letter to Chaffetz and other Republicans, giving them time to turn on the spin machine. That may make for good theater, but there is nothing so far that even suggests this is the case. After all, there is nothing so far that suggests that Comey was anything other than grossly incompetent and tone-deaf. \\nWhat it does suggest, however, is that Chaffetz is acting in a way that makes Dan Burton and Darrell Issa look like models of responsibility and bipartisanship. He didn’t even have the decency to notify ranking member Elijah Cummings about something this explosive. If that doesn’t trample on basic standards of fairness, I don’t know what does. \\nGranted, it’s not likely that Chaffetz will have to answer for this. He sits in a ridiculously Republican district anchored in Provo and Orem; it has a Cook Partisan Voting Index of R+25, and gave Mitt Romney a punishing 78 percent of the vote in 2012. Moreover, the Republican House leadership has given its full support to Chaffetz’ planned fishing expedition. But that doesn’t mean we can’t turn the hot lights on him. After all, he is a textbook example of what the House has become under Republican control. And he is also the Second Worst Person in the World. About Darrell Lucus \\nDarrell is a 30-something graduate of the University of North Carolina who considers himself a journalist of the old school. An attempt to turn him into a member of the religious right in college only succeeded in turning him into the religious right\\'s worst nightmare--a charismatic Christian who is an unapologetic liberal. His desire to stand up for those who have been scared into silence only increased when he survived an abusive three-year marriage. You may know him on Daily Kos as Christian Dem in NC . Follow him on Twitter @DarrellLucus or connect with him on Facebook . Click here to buy Darrell a Mello Yello. Connect'"
      ]
     },
     "execution_count": 59,
     "metadata": {},
     "output_type": "execute_result"
    }
   ],
   "source": [
    "article_content"
   ]
  },
  {
   "cell_type": "code",
   "execution_count": 44,
   "id": "3de1c7ce",
   "metadata": {},
   "outputs": [],
   "source": [
    "response = openai.ChatCompletion.create(\n",
    "    model=\"gpt-3.5-turbo\",\n",
    "    messages=[\n",
    "        {\"role\": \"system\", \"content\": \"You are fact and claim detector responsible for extracting the most important facts and claims from a piece of text, usually an article. You will always return a numbered list and nothing else. Each item in the numbered list will always start with the topic of the article.\"},\n",
    "        {\"role\": \"user\", \"content\": \"Give me a numbered list of the most important claims and facts relevant to the argument of the following article. Make sure that each item in the list is a brief, verifiable sentence that contains the claim or fact and any context from the article needed to fact check it. Also give me the argument of the article in as few words as possible. An example of the output is: Argument: Red is the best color.\\n1.Red is the coolest\\n2.Everyone likes the color red.\"},\n",
    "        {\"role\": \"user\", \"content\": article_content}\n",
    "    ]\n",
    ")"
   ]
  },
  {
   "cell_type": "code",
   "execution_count": 45,
   "id": "1ed006ff",
   "metadata": {},
   "outputs": [
    {
     "data": {
      "text/plain": [
       "\"Argument: Jason Chaffetz was negligent in not informing ranking Democratic members about FBI Director Comey's letter.\\n1. The ranking Democrats on the relevant committees did not learn about Comey's letter until after Jason Chaffetz tweeted it.\\n2. Chaffetz did not notify ranking member Elijah Cummings about the letter.\\n3. Chaffetz's failure to inform Democrats trampled on basic standards of fairness.\\n4. Chaffetz's actions were part of a larger pattern of behavior in the Republican-controlled House.\\n5. Comey's letter notified Republican chairmen and Democratic ranking members of the House Intelligence, Judiciary, and Oversight committees that the FBI was reviewing emails it had recently discovered in order to see if they contained classified information.\""
      ]
     },
     "execution_count": 45,
     "metadata": {},
     "output_type": "execute_result"
    }
   ],
   "source": [
    "response[\"choices\"][0][\"message\"][\"content\"]"
   ]
  },
  {
   "cell_type": "code",
   "execution_count": 46,
   "id": "4f927845-c7eb-4801-835f-3efcbc05d69c",
   "metadata": {},
   "outputs": [
    {
     "name": "stdout",
     "output_type": "stream",
     "text": [
      "Argument: Jason Chaffetz was negligent in not informing ranking Democratic members about FBI Director Comey's letter.\n",
      "1. The ranking Democrats on the relevant committees did not learn about Comey's letter until after Jason Chaffetz tweeted it.\n",
      "2. Chaffetz did not notify ranking member Elijah Cummings about the letter.\n",
      "3. Chaffetz's failure to inform Democrats trampled on basic standards of fairness.\n",
      "4. Chaffetz's actions were part of a larger pattern of behavior in the Republican-controlled House.\n",
      "5. Comey's letter notified Republican chairmen and Democratic ranking members of the House Intelligence, Judiciary, and Oversight committees that the FBI was reviewing emails it had recently discovered in order to see if they contained classified information.\n"
     ]
    }
   ],
   "source": [
    "for sentence in response[\"choices\"][0][\"message\"][\"content\"].split(\"\\n\"):\n",
    "    print(sentence)"
   ]
  },
  {
   "cell_type": "code",
   "execution_count": 38,
   "id": "c48a24ed",
   "metadata": {},
   "outputs": [
    {
     "data": {
      "text/plain": [
       "(\"FBI Director James Comey sent out a letter announcing that the FBI was reopening its investigation into Hillary Clinton's email server, which was inadvertently made public via a tweet from Oversight Committee Chairman Jason Chaffetz. It has been revealed that the Democratic Ranking Members on relevant committees had not received the letter until after Chaffetz tweeted it, therefore they found out about the news on Twitter. This has caused much controversy and accusations of partisanship.\",\n",
       " [\"The Democratic Ranking Members on relevant committees had not received Comey's letter about reopening the investigation into Clinton's email server until after Jason Chaffetz tweeted it out and made it public.\",\n",
       "  'The Oversight Committee Chairman, Jason Chaffetz, did not notify his Democratic counterparts about the FBI review of the emails that had been discovered.',\n",
       "  'Chaffetz is acting in a partisan way that violates basic standards of fairness by not notifying ranking member Elijah Cummings of something this explosive.',\n",
       "  'There has been speculation that Comey himself provided advance notice of the letter to Chaffetz and other Republicans, but there is no evidence of this.',\n",
       "  'Chaffetz is the textbook example of what the House has become under Republican control and has a Cook Partisan Voting Index of R+25.'])"
      ]
     },
     "execution_count": 38,
     "metadata": {},
     "output_type": "execute_result"
    }
   ],
   "source": [
    "response_content = response[\"choices\"][0][\"message\"][\"content\"]\n",
    "topic = response_content[response_content.find(\"Argument: \") + 10:response_content.find(\"\\n\")]\n",
    "facts = response_content[response_content.find(\"\\n\") + 2:]\n",
    "facts = [fact[fact.find(\" \") + 1:] for fact in facts.split(\"\\n\")]\n",
    "topic, facts"
   ]
  },
  {
   "cell_type": "code",
   "execution_count": 39,
   "id": "903ea6ab",
   "metadata": {},
   "outputs": [
    {
     "data": {
      "text/plain": [
       "<OpenAIObject chat.completion id=chatcmpl-76QXlp59E7ca7y2re0r9eWIuY5iVD at 0x7f7b910afb48> JSON: {\n",
       "  \"choices\": [\n",
       "    {\n",
       "      \"finish_reason\": \"stop\",\n",
       "      \"index\": 0,\n",
       "      \"message\": {\n",
       "        \"content\": \"Argument: FBI Director James Comey sent out a letter announcing that the FBI was reopening its investigation into Hillary Clinton's email server, which was inadvertently made public via a tweet from Oversight Committee Chairman Jason Chaffetz. It has been revealed that the Democratic Ranking Members on relevant committees had not received the letter until after Chaffetz tweeted it, therefore they found out about the news on Twitter. This has caused much controversy and accusations of partisanship.\\n\\n1. The Democratic Ranking Members on relevant committees had not received Comey's letter about reopening the investigation into Clinton's email server until after Jason Chaffetz tweeted it out and made it public.\\n2. The Oversight Committee Chairman, Jason Chaffetz, did not notify his Democratic counterparts about the FBI review of the emails that had been discovered.\\n3. Chaffetz is acting in a partisan way that violates basic standards of fairness by not notifying ranking member Elijah Cummings of something this explosive.\\n4. There has been speculation that Comey himself provided advance notice of the letter to Chaffetz and other Republicans, but there is no evidence of this.\\n5. Chaffetz is the textbook example of what the House has become under Republican control and has a Cook Partisan Voting Index of R+25.\",\n",
       "        \"role\": \"assistant\"\n",
       "      }\n",
       "    }\n",
       "  ],\n",
       "  \"created\": 1681766357,\n",
       "  \"id\": \"chatcmpl-76QXlp59E7ca7y2re0r9eWIuY5iVD\",\n",
       "  \"model\": \"gpt-3.5-turbo-0301\",\n",
       "  \"object\": \"chat.completion\",\n",
       "  \"usage\": {\n",
       "    \"completion_tokens\": 248,\n",
       "    \"prompt_tokens\": 1169,\n",
       "    \"total_tokens\": 1417\n",
       "  }\n",
       "}"
      ]
     },
     "execution_count": 39,
     "metadata": {},
     "output_type": "execute_result"
    }
   ],
   "source": [
    "response"
   ]
  },
  {
   "cell_type": "code",
   "execution_count": 40,
   "id": "11547218",
   "metadata": {},
   "outputs": [
    {
     "name": "stdout",
     "output_type": "stream",
     "text": [
      "{'version': '2', 'claim': \"FBI Director James Comey sent out a letter announcing that the FBI was reopening its investigation into Hillary Clinton's email server, which was inadvertently made public via a tweet from Oversight Committee Chairman Jason Chaffetz. It has been revealed that the Democratic Ranking Members on relevant committees had not received the letter until after Chaffetz tweeted it, therefore they found out about the news on Twitter. This has caused much controversy and accusations of partisanship.; The Democratic Ranking Members on relevant committees had not received Comey's letter about reopening the investigation into Clinton's email server until after Jason Chaffetz tweeted it out and made it public.\", 'results': [{'text': \"FBI Director James Comey sent out a letter announcing that the FBI was reopening its investigation into Hillary Clinton's email server, which was inadvertently made public via a tweet from Oversight Committee Chairman Jason Chaffetz. It has been revealed that the Democratic Ranking Members on relevant committees had not received the letter until after Chaffetz tweeted it, therefore they found out about the news on Twitter. This has caused much controversy and accusations of partisanship.; The Democratic Ranking Members on relevant committees had not received Comey's letter about reopening the investigation into Clinton's email server until after Jason Chaffetz tweeted it out and made it public.\", 'index': 0, 'score': 0.7101879881}]}\n"
     ]
    }
   ],
   "source": [
    "api_endpoint = f\"https://idir.uta.edu/claimbuster/api/v2/score/text/{topic + '; ' + facts[0]}\"\n",
    "request_headers = {\"x-api-key\": CB_API_KEY}\n",
    "\n",
    "api_response = requests.get(url=api_endpoint, headers=request_headers)\n",
    "\n",
    "print(api_response.json())"
   ]
  },
  {
   "cell_type": "code",
   "execution_count": 41,
   "id": "f02dbbd0",
   "metadata": {},
   "outputs": [
    {
     "name": "stdout",
     "output_type": "stream",
     "text": [
      "{'claim': \"The Democratic Ranking Members on relevant committees had not received Comey's letter about reopening the investigation into Clinton's email server until after Jason Chaffetz tweeted it out and made it public.\", 'origin': 'Claim Checker - Knowledge Bases', 'justification': []}\n"
     ]
    }
   ],
   "source": [
    "api_endpoint = f\"https://idir.uta.edu/claimbuster/api/v2/query/knowledge_bases/{facts[0]}\"\n",
    "request_headers = {\"x-api-key\": CB_API_KEY}\n",
    "\n",
    "api_response = requests.get(url=api_endpoint, headers=request_headers)\n",
    "\n",
    "print(api_response.json())"
   ]
  },
  {
   "cell_type": "code",
   "execution_count": 42,
   "id": "e463b2d4",
   "metadata": {},
   "outputs": [
    {
     "name": "stdout",
     "output_type": "stream",
     "text": [
      "{'claim': \"The Democratic Ranking Members on relevant committees had not received Comey's letter about reopening the investigation into Clinton's email server until after Jason Chaffetz tweeted it out and made it public.\", 'origin': 'Claim Matcher', 'justification': []}\n"
     ]
    }
   ],
   "source": [
    "api_endpoint = f\"https://idir.uta.edu/claimbuster/api/v2/query/fact_matcher/{facts[0]}\"\n",
    "request_headers = {\"x-api-key\": CB_API_KEY}\n",
    "\n",
    "api_response = requests.get(url=api_endpoint, headers=request_headers)\n",
    "\n",
    "print(api_response.json())"
   ]
  },
  {
   "cell_type": "code",
   "execution_count": 47,
   "id": "5f01f211",
   "metadata": {},
   "outputs": [],
   "source": [
    "def score_facts_for_validation(facts):\n",
    "    api_endpoint = f\"https://idir.uta.edu/claimbuster/api/v2/score/text/sentences/{' '.join(facts)}\"\n",
    "    request_headers = {\"x-api-key\": CB_API_KEY}\n",
    "\n",
    "    api_response = requests.get(url=api_endpoint, headers=request_headers)\n",
    "\n",
    "    return api_response.json()['results']\n",
    "\n",
    "def get_justification(fact):\n",
    "    api_endpoint = f\"https://idir.uta.edu/claimbuster/api/v2/query/knowledge_bases/{fact}\"\n",
    "    request_headers = {\"x-api-key\": CB_API_KEY}\n",
    "\n",
    "    api_response = requests.get(url=api_endpoint, headers=request_headers)\n",
    "\n",
    "    return api_response.json()['justification']\n",
    "\n",
    "def get_matching_facts(fact):\n",
    "    api_endpoint = f\"https://idir.uta.edu/claimbuster/api/v2/query/fact_matcher/{fact}\"\n",
    "    request_headers = {\"x-api-key\": CB_API_KEY}\n",
    "\n",
    "    api_response = requests.get(url=api_endpoint, headers=request_headers)\n",
    "\n",
    "    return api_response.json()['justification']\n",
    "    \n",
    "def get_topic_and_claims(article_text):\n",
    "    response = openai.ChatCompletion.create(\n",
    "        model=\"gpt-3.5-turbo\",\n",
    "        messages=[\n",
    "            {\"role\": \"system\", \"content\": \"You are fact and claim detector responsible for extracting the most important facts and claims from a piece of text, usually an article. You will always return a numbered list and nothing else. Each item in the numbered list will always start with the topic of the article.\"},\n",
    "            {\"role\": \"user\", \"content\": \"Give me a numbered list of the most important claims and facts relevant to the argument of the following article. Make sure that each item in the list is a brief, verifiable sentence that contains the claim or fact and any context from the article needed to fact check it. Also give me the argument of the article in as few words as possible. An example of the output is: Argument: World War II was a major global conflict.\\n1. World War II began in 1939\\n2. 27 million people died during World War II\"},\n",
    "            {\"role\": \"user\", \"content\": article_content}\n",
    "        ]\n",
    "    )\n",
    "    \n",
    "    response_content = response[\"choices\"][0][\"message\"][\"content\"]\n",
    "    topic = response_content[response_content.find(\"Argument: \") + 10:response_content.find(\"\\n\")]\n",
    "    facts = response_content[response_content.find(\"\\n\") + 2:]\n",
    "    facts = [fact[fact.find(\" \") + 1:] for fact in facts.split(\"\\n\")]\n",
    "    return topic, facts\n",
    "\n",
    "def validate_facts(topic, facts):\n",
    "    facts = [topic] + facts\n",
    "    scores = score_facts_for_validation(facts)\n",
    "    \n",
    "    print(f\"Topic: {topic}\")\n",
    "    for i in range(len(facts)):\n",
    "        print(\"------------------------\")\n",
    "        print(f\"Fact: {facts[i]}\")\n",
    "        print(f\"Score: {scores[i]['score']}\")\n",
    "        if scores[i]['score'] > 0.5:\n",
    "            sentence = facts[i]\n",
    "            justification = get_justification(sentence)\n",
    "            print(f\"Justification: {justification}\")\n",
    "            matches = get_matching_facts(sentence)\n",
    "            print(f\"Matches: {matches}\")"
   ]
  },
  {
   "cell_type": "code",
   "execution_count": 51,
   "id": "27dbc41a",
   "metadata": {},
   "outputs": [],
   "source": [
    "topic, facts = get_topic_and_claims(article_content)"
   ]
  },
  {
   "cell_type": "code",
   "execution_count": 52,
   "id": "0fd6d6d7",
   "metadata": {},
   "outputs": [
    {
     "name": "stdout",
     "output_type": "stream",
     "text": [
      "Topic: World War II was a global conflict that began in 1939, involving the vast majority of the world’s countries, resulting in an estimated 70 to 85 million fatalities mostly among civilians, and being by far the deadliest conflict in history.\n",
      "------------------------\n",
      "Fact: World War II was a global conflict that began in 1939, involving the vast majority of the world’s countries, resulting in an estimated 70 to 85 million fatalities mostly among civilians, and being by far the deadliest conflict in history.\n",
      "Score: 0.8674319844\n",
      "Justification: []\n",
      "Matches: []\n",
      "------------------------\n",
      "Fact: World War II resulted in an estimated 70 to 85 million fatalities, mostly among civilians.\n",
      "Score: 0.8104610036\n",
      "Justification: []\n",
      "Matches: []\n",
      "------------------------\n",
      "Fact: The war lasted from 1939 to 1945.\n",
      "Score: 0.4519457259\n",
      "------------------------\n",
      "Fact: The majority of the world’s countries, including all great powers, fought in two opposing military alliances, the Allies and the Axis.\n",
      "Score: 0.7336529709\n",
      "Justification: []\n",
      "Matches: []\n",
      "------------------------\n",
      "Fact: Many participants threw their economic, industrial, and scientific capabilities behind the war, blurring the distinction between civilian and military resources.\n",
      "Score: 0.4796567163\n",
      "------------------------\n",
      "Fact: Germany, Japan, and their allies were eventually defeated, leading to the fall of their totalitarian regimes, and the occupation of their territories.\n",
      "Score: 0.4824803966\n",
      "------------------------\n",
      "Fact: The causes of World War II are debated, but contributing factors included the rise of fascism in Europe, European tensions in the aftermath of World War I, and several smaller conflicts between different countries.\n",
      "Score: 0.5491194304\n",
      "Justification: [{'question': 'What are debated?', 'justification': '1 | verb | argue with one another\\n2 | verb | think about carefully; weigh\\n3 | verb | discuss the pros and cons of an issue\\n4 | verb | have an argument about something\\n5 | noun | a discussion in which reasons are advanced for and against some proposition or proposal\\n6 | noun | the formal presentation of a stated proposition and the opposition to it (usually followed by a vote)\\n(6 meanings)', 'truth_rating': 'Indeterminable', 'source': 'wolf'}]\n",
      "Matches: []\n",
      "------------------------\n",
      "Fact: The war involved major technological developments in aircraft, which enabled strategic bombing of population centers and the delivery of the only two nuclear weapons ever used in war.\n",
      "Score: 0.7767637034\n",
      "Justification: []\n",
      "Matches: []\n"
     ]
    }
   ],
   "source": [
    "validate_facts(topic, facts)"
   ]
  },
  {
   "cell_type": "code",
   "execution_count": null,
   "id": "17ce7378",
   "metadata": {},
   "outputs": [],
   "source": []
  },
  {
   "cell_type": "code",
   "execution_count": 67,
   "id": "02f719f2",
   "metadata": {},
   "outputs": [],
   "source": [
    "response = openai.ChatCompletion.create(\n",
    "    model=\"gpt-3.5-turbo\",\n",
    "    messages=[\n",
    "        {\"role\": \"system\", \"content\": \"You are fact and claim detector responsible for extracting the most important facts and claims from a piece of text and fact checking them with sources.\"},\n",
    "        {\"role\": \"user\", \"content\": \"Give me a numbered list of the most important claims and facts relevant to the argument of the following article. Discuss the truthfulness of each claim and add at least one third party source for each one. Make sure that each source is highly credible and comes from an independent source other than the article itself. If the claim is an opinion then specify it. If the truthfulness of the claim cannot be determined then specify that.\"},\n",
    "        {\"role\": \"user\", \"content\": article_content}\n",
    "    ]\n",
    ")"
   ]
  },
  {
   "cell_type": "code",
   "execution_count": 68,
   "id": "59b1ad28-f4c3-4a31-8e60-20a740a41623",
   "metadata": {},
   "outputs": [
    {
     "data": {
      "text/plain": [
       "<OpenAIObject chat.completion id=chatcmpl-76VAq9aLeuLsFbLNdTJDZUDEMLLZQ at 0x211309b7c70> JSON: {\n",
       "  \"choices\": [\n",
       "    {\n",
       "      \"finish_reason\": \"stop\",\n",
       "      \"index\": 0,\n",
       "      \"message\": {\n",
       "        \"content\": \"1. The ranking Democrats on the relevant House committees did not hear about Comey's letter regarding the FBI's investigation of Hillary Clinton's emails until they saw Jason Chaffetz's tweet. \\nTruthfulness: UNKNOWN. There is no way to directly verify if the House Democrats did not receive the letter until after seeing Chaffetz's tweet. \\n\\n2. Comey notified only the Republican chairmen and Democratic ranking members of the House Intelligence, Judiciary, and Oversight committees of his agency reviewing the newly discovered emails.\\nTruthfulness: TRUE. As reported by multiple sources, Comey sent the letter to the Republican chairmen and Democratic ranking members of these committees.\\n\\n3. Jason Chaffetz tweeted about the FBI reopening the Clinton email investigation, which was later found to be not true.\\nTruthfulness: TRUE. Chaffetz's tweet is a matter of public record.\\n\\n4. Chaffetz did not notify the Democratic ranking members about the information he received from Comey.\\nTruthfulness: UNKNOWN. It is difficult to verify this claim without access to internal communication records among the House members.\\n\\n5. There is no evidence that Comey provided advance notice of his letter to Chaffetz or other Republicans.\\nTruthfulness: TRUE. As the article stated, there is no evidence to suggest that Comey provided advance notice to Chaffetz or other Republicans.\\n\\nSources:\\n1. The Hill - FBI's Comey under fire over Clinton email probe (source for claim 2)\\n2. Washington Post - A comprehensive guide to the new FBI Hillary Clinton email investigation (source for claim 2 and 3)\\n3. Twitter (source for claim 3)\\n4. Shareblue - Exclusive: House Democratic aide claims Comey letter was hidden from Democrats (source for claim 1 and 4)\\n5. PolitiFact - Democrats didn't learn of FBI letter to Chaffetz via tweet (source for claim 1)\",\n",
       "        \"role\": \"assistant\"\n",
       "      }\n",
       "    }\n",
       "  ],\n",
       "  \"created\": 1681784156,\n",
       "  \"id\": \"chatcmpl-76VAq9aLeuLsFbLNdTJDZUDEMLLZQ\",\n",
       "  \"model\": \"gpt-3.5-turbo-0301\",\n",
       "  \"object\": \"chat.completion\",\n",
       "  \"usage\": {\n",
       "    \"completion_tokens\": 377,\n",
       "    \"prompt_tokens\": 1165,\n",
       "    \"total_tokens\": 1542\n",
       "  }\n",
       "}"
      ]
     },
     "execution_count": 68,
     "metadata": {},
     "output_type": "execute_result"
    }
   ],
   "source": [
    "response"
   ]
  },
  {
   "cell_type": "code",
   "execution_count": 69,
   "id": "ecaf4188-cdef-4df1-9d94-f322f35d475b",
   "metadata": {},
   "outputs": [],
   "source": [
    "response_content = response[\"choices\"][0][\"message\"][\"content\"]"
   ]
  },
  {
   "cell_type": "code",
   "execution_count": 70,
   "id": "06912262-cb6c-41b7-a259-8b86e2931d5f",
   "metadata": {},
   "outputs": [
    {
     "name": "stdout",
     "output_type": "stream",
     "text": [
      "1. The ranking Democrats on the relevant House committees did not hear about Comey's letter regarding the FBI's investigation of Hillary Clinton's emails until they saw Jason Chaffetz's tweet. \n",
      "Truthfulness: UNKNOWN. There is no way to directly verify if the House Democrats did not receive the letter until after seeing Chaffetz's tweet. \n",
      "\n",
      "2. Comey notified only the Republican chairmen and Democratic ranking members of the House Intelligence, Judiciary, and Oversight committees of his agency reviewing the newly discovered emails.\n",
      "Truthfulness: TRUE. As reported by multiple sources, Comey sent the letter to the Republican chairmen and Democratic ranking members of these committees.\n",
      "\n",
      "3. Jason Chaffetz tweeted about the FBI reopening the Clinton email investigation, which was later found to be not true.\n",
      "Truthfulness: TRUE. Chaffetz's tweet is a matter of public record.\n",
      "\n",
      "4. Chaffetz did not notify the Democratic ranking members about the information he received from Comey.\n",
      "Truthfulness: UNKNOWN. It is difficult to verify this claim without access to internal communication records among the House members.\n",
      "\n",
      "5. There is no evidence that Comey provided advance notice of his letter to Chaffetz or other Republicans.\n",
      "Truthfulness: TRUE. As the article stated, there is no evidence to suggest that Comey provided advance notice to Chaffetz or other Republicans.\n",
      "\n",
      "Sources:\n",
      "1. The Hill - FBI's Comey under fire over Clinton email probe (source for claim 2)\n",
      "2. Washington Post - A comprehensive guide to the new FBI Hillary Clinton email investigation (source for claim 2 and 3)\n",
      "3. Twitter (source for claim 3)\n",
      "4. Shareblue - Exclusive: House Democratic aide claims Comey letter was hidden from Democrats (source for claim 1 and 4)\n",
      "5. PolitiFact - Democrats didn't learn of FBI letter to Chaffetz via tweet (source for claim 1)\n"
     ]
    }
   ],
   "source": [
    "for item in response_content.split(\"\\n\"):\n",
    "    print(item)"
   ]
  },
  {
   "cell_type": "code",
   "execution_count": 73,
   "id": "59ca05ef-8e46-45ad-981e-1389f2f54027",
   "metadata": {},
   "outputs": [
    {
     "name": "stdout",
     "output_type": "stream",
     "text": [
      "1. The ranking Democrats on relevant committees did not receive James Comey's letter about the FBI looking into potentially related Hillary Clinton emails until after Republican committee chairman Jason Chaffetz tweeted about it.\n",
      "    * Truthfulness: Likely True\n",
      "    * Source: Shareblue (https://shareblue.com/house-dem-aide-we-didnt-even-see-comeys-letter-until-jason-chaffetz-tweeted-it/)\n",
      "\n",
      "2. Democratic ranking members did not receive the letter until after Chaffetz tweeted about it and made it public knowledge.\n",
      "    * Truthfulness: Likely True\n",
      "    * Source: Shareblue (https://shareblue.com/house-dem-aide-we-didnt-even-see-comeys-letter-until-jason-chaffetz-tweeted-it/)\n",
      "\n",
      "3. Elijah Cummings, the ranking member of the House Oversight Committee, was not notified by Chaffetz or other Republican colleagues about Comey's letter.\n",
      "    * Truthfulness: Likely True\n",
      "    * Source: Shareblue (https://shareblue.com/house-dem-aide-we-didnt-even-see-comeys-letter-until-jason-chaffetz-tweeted-it/)\n",
      "\n",
      "4. Chaffetz did not notify his Democratic counterparts about Comey's letter even though he was informed about it before they were.\n",
      "    * Truthfulness: Likely True\n",
      "    * Source: Shareblue (https://shareblue.com/house-dem-aide-we-didnt-even-see-comeys-letter-until-jason-chaffetz-tweeted-it/)\n",
      "\n",
      "5. There is talk on Daily Kos that Comey provided advance notice of the letter to Chaffetz and other Republicans.\n",
      "    * Truthfulness: Unknown\n",
      "    * Source: There is no source cited by the article for this claim. It is presented as a speculation on Daily Kos.\n",
      "\n",
      "6. Chaffetz's behavior tramples on basic standards of fairness and shows a lack of decency for not notifying his Democratic counterparts about Comey's letter.\n",
      "    * Truthfulness: Opinion\n",
      "    * Source: N/A\n"
     ]
    }
   ],
   "source": [
    "response = openai.ChatCompletion.create(\n",
    "    model=\"gpt-3.5-turbo\",\n",
    "    messages=[\n",
    "        {\"role\": \"system\", \"content\": \"You are fact and claim detector responsible for extracting the most important facts and claims from a piece of text and fact checking them with sources.\"},\n",
    "        {\"role\": \"user\", \"content\": \"Give me a numbered list of the most important claims and facts relevant to the argument of the following article. In this list, discuss the truthfulness of each claim and add at least one third party source for each one. Make sure that each source is highly credible and comes from an independent source other than the article itself. Ensure that the sources used are not social media websites or controversial sources. Give a truthfulness score that is one of [Likely True, Possibly True, Possible False, Likely False, Unknown] If the claim is an opinion then specify it. If the truthfulness of the claim cannot be determined then specify that.\"},\n",
    "        {\"role\": \"user\", \"content\": article_content}\n",
    "    ]\n",
    ")\n",
    "response_content = response[\"choices\"][0][\"message\"][\"content\"]\n",
    "for item in response_content.split(\"\\n\"):\n",
    "    print(item)"
   ]
  },
  {
   "cell_type": "code",
   "execution_count": 86,
   "id": "3c71116c-7a8e-4ce0-9480-694ca1d09ea4",
   "metadata": {},
   "outputs": [],
   "source": [
    "example_response = \"\"\"\n",
    "1. The ranking Democrats on relevant committees did not receive James Comey's letter about the FBI looking into potentially related Hillary Clinton emails until after Republican committee chairman Jason Chaffetz tweeted about it.\n",
    "    * Truthfulness: Unknown\n",
    "    * Source: There is no way to directly verify if the House Democrats did not receive the letter until after seeing Chaffetz's tweet. \n",
    "\n",
    "2. Democratic ranking members did not receive the letter until after Chaffetz tweeted about it and made it public knowledge.\n",
    "    * Truthfulness: Possibly True\n",
    "    * Source: Politifact: House Democratic aide claims Comey letter was hidden from Democrats\n",
    "\n",
    "3. Elijah Cummings, the ranking member of the House Oversight Committee, was not notified by Chaffetz or other Republican colleagues about Comey's letter.\n",
    "    * Truthfulness: Possibly True\n",
    "    * Source: Politifact: House Democratic aide claims Comey letter was hidden from Democrats\n",
    "\n",
    "4. Chaffetz did not notify his Democratic counterparts about Comey's letter even though he was informed about it before they were.\n",
    "    * Truthfulness: Possibly True\n",
    "    * Source: Politifact: House Democratic aide claims Comey letter was hidden from Democrats\n",
    "\n",
    "5. There is talk on Daily Kos that Comey provided advance notice of the letter to Chaffetz and other Republicans.\n",
    "    * Truthfulness: Unknown\n",
    "    * Source: It is difficult to verify this claim without access to internal communication records among the House members. It is presented as a speculation on Daily Kos.\n",
    "\n",
    "6. Chaffetz's behavior tramples on basic standards of fairness and shows a lack of decency for not notifying his Democratic counterparts about Comey's letter.\n",
    "    * Truthfulness: Opinion\n",
    "    * Source: N/A\n",
    "    \n",
    "7. James Comey felt really bad about it.\n",
    "    * Truthfulness: Opinion/Speculation\n",
    "    * Source: It is difficult to verify someone's feelings\n",
    "\"\"\""
   ]
  },
  {
   "cell_type": "code",
   "execution_count": 80,
   "id": "f208c753-0305-481d-ab09-964e0b6ecd7f",
   "metadata": {},
   "outputs": [
    {
     "name": "stdout",
     "output_type": "stream",
     "text": [
      "1. Hillary Clinton remains popular in Wellesley, Massachusetts, where she gave a commencement speech in 1969.\n",
      "    * Truthfulness: Likely True\n",
      "    * Source: Boston Globe - Wellesley College welcomes back Hillary Clinton\n",
      "\n",
      "2. Clinton lost the 2016 presidential election and is viewed unfavorably by many Americans.\n",
      "    * Truthfulness: Likely True\n",
      "    * Source: Pew Research Center - Clinton’s Image Declines, Trails Only Trump in Voter Unpopularity\n",
      "\n",
      "3. Clinton was criticized for her handling of various scandals, including Whitewater, Travelgate, Benghazi, and her use of a private email server.\n",
      "    * Truthfulness: Likely True\n",
      "    * Source: CNN - Hillary Clinton's email controversy, explained\n",
      "\n",
      "4. Clinton blamed her loss on the lies of her opponent, Donald Trump, and his supporters.\n",
      "    * Truthfulness: Likely True\n",
      "    * Source: CNN - Clinton: Trump's campaign gave white supremacists a platform\n",
      "\n",
      "5. Clinton's loss has led to dangerous delusions and a sense of disbelief.\n",
      "    * Truthfulness: Opinion\n",
      "    * Source: N/A\n"
     ]
    }
   ],
   "source": [
    "article_content = fake_news_articles.iloc[1][\"text\"]\n",
    "response = openai.ChatCompletion.create(\n",
    "    model=\"gpt-3.5-turbo\",\n",
    "    messages=[\n",
    "        {\"role\": \"system\", \"content\": \"You are fact and claim detector responsible for extracting the most important facts and claims from a piece of text and fact checking them with sources.\"},\n",
    "        {\"role\": \"user\", \"content\": f\"Give me a numbered list of the most important claims and facts relevant to the argument of the following article. In this list, discuss the truthfulness of each claim and add at least one third party source for each one. Make sure that each source is highly credible and comes from an independent source other than the article itself. Ensure that the sources used are not social media websites or controversial sources. Give a truthfulness score that is one of [Likely True, Possibly True, Possible False, Likely False, Unknown, Opinion/Speculation] If the claim is an opinion then specify it. If the truthfulness of the claim cannot be determined then specify that. Here is an example of the output required: {example_response}\"},\n",
    "        {\"role\": \"user\", \"content\": article_content}\n",
    "    ],\n",
    "    temperature=0.1\n",
    ")\n",
    "response_content = response[\"choices\"][0][\"message\"][\"content\"]\n",
    "for item in response_content.split(\"\\n\"):\n",
    "    print(item)"
   ]
  },
  {
   "cell_type": "code",
   "execution_count": null,
   "id": "07cd8966-02de-4b42-bad9-1a6228f7c775",
   "metadata": {},
   "outputs": [],
   "source": [
    "valid_sources = \"encylopedia, textbook, new sources with first hand reporting, or research oriented magazine\""
   ]
  },
  {
   "cell_type": "code",
   "execution_count": 83,
   "id": "216a0848-6892-4325-b197-a05258881560",
   "metadata": {},
   "outputs": [
    {
     "name": "stdout",
     "output_type": "stream",
     "text": [
      "1. President George W. Bush claimed that Saddam Hussein was on the verge of developing nuclear weapons and was hiding other weapons of mass destruction as a key reason for invading Iraq.\n",
      "    * Truthfulness: Likely True\n",
      "    * Source: The Guardian - Iraq war: 10 years later, where are the key players now?\n",
      "\n",
      "2. The real reason for the invasion of Iraq went beyond the claim of weapons of mass destruction and included a long-range plan for \"regime change\" in the Middle East.\n",
      "    * Truthfulness: Likely True\n",
      "    * Source: The Guardian - Iraq war: 10 years later, where are the key players now?\n",
      "\n",
      "3. President Bush tried to connect Saddam Hussein to the 9/11 attacks on the U.S.\n",
      "    * Truthfulness: Likely True\n",
      "    * Source: The Guardian - Iraq war: 10 years later, where are the key players now?\n",
      "\n",
      "4. The lack of evidence connecting Saddam Hussein to the 9/11 attacks made it difficult to rally the American people to support a war against Baghdad.\n",
      "    * Truthfulness: Likely True\n",
      "    * Source: The Guardian - Iraq war: 10 years later, where are the key players now?\n",
      "\n",
      "5. The nuclear weapons gambit proved more fruitful than the 9/11 connection in rallying support for the war against Iraq.\n",
      "    * Truthfulness: Likely True\n",
      "    * Source: The Guardian - Iraq war: 10 years later, where are the key players now?\n",
      "\n",
      "6. The U.S. leadership cadre's worldview demanded a mortally dangerous Iraq, and informants who were willing to tell the tale of pending atomic weapons lowered the threshold for proof.\n",
      "    * Truthfulness: Likely True\n",
      "    * Source: The Guardian - Iraq war: 10 years later, where are the key players now?\n",
      "\n",
      "7. The U.S. and its allies insisted that the United Nations send in weapons inspectors to scour Iraq for evidence of a nuclear weapons program.\n",
      "    * Truthfulness: Likely True\n",
      "    * Source: The Guardian - Iraq war: 10 years later, where are the key players now?\n",
      "\n",
      "8. The inspectors could find no convincing evidence of a nuclear weapons program in Iraq.\n",
      "    * Truthfulness: Likely True\n",
      "    * Source: The Guardian - Iraq war: 10 years later, where are the key players now?\n",
      "\n",
      "9. The various U.S. intelligence agencies are still trying to sort out how to tell when they are getting \"true\" intelligence and when they are being lied to.\n",
      "    * Truthfulness: Likely True\n",
      "    * Source: The Washington Post - The CIA is investing in firms that mine your tweets and Instagram photos\n",
      "\n",
      "10. The CIA et al. are in the market for academic assistance to coordinate programs in \"social and behavioral science research [that] might strengthen national security.\"\n",
      "    * Truthfulness: Likely True\n",
      "    * Source: The National Academies of Sciences, Engineering, and Medicine - Intelligence Analysis for Tomorrow: Advances from the Behavioral and Social Sciences\n",
      "\n",
      "11. The \"social and behavioral sciences\" cannot give the spy agencies what they want - a way of detecting lies that is better than their present standard procedures of polygraph tests and interrogations.\n",
      "    * Truthfulness: Likely True\n",
      "    * Source: The National Academies of Sciences, Engineering, and Medicine - Intelligence Analysis for Tomorrow: Advances from the Behavioral and Social Sciences\n",
      "\n",
      "12. The real problem is not with the liars, but with the believers - the policymakers who seem not to be able to rise above the ideological presumptions of their class.\n",
      "    * Truthfulness: Likely True\n",
      "    * Source: The Guardian - Iraq war: 10 years later, where are the key players now?\n",
      "\n",
      "13. The intelligence specialists who send their usually accurate assessments up the line to the policy makers often hit a roadblock caused by \"group think,\" ideological blinkers, and a \"we know better\" attitude.\n",
      "    * Truthfulness: Likely True\n",
      "    * Source: The Guardian - Iraq war: 10 years later, where are the key players now?\n",
      "\n",
      "14. The policymakers who have different criteria for what is \"true\" than the analysts are the real problem.\n",
      "    * Truthfulness: Likely True\n",
      "    * Source: The Guardian - Iraq war: 10 years later, where are the key players now?\n"
     ]
    }
   ],
   "source": [
    "article_content = fake_news_articles.iloc[2][\"text\"]\n",
    "response = openai.ChatCompletion.create(\n",
    "    model=\"gpt-3.5-turbo\",\n",
    "    messages=[\n",
    "        {\"role\": \"system\", \"content\": \"You are fact and claim detector responsible for extracting the most important facts and claims from a piece of text and fact checking them with sources.\"},\n",
    "        {\"role\": \"user\", \"content\": f\"Give me a numbered list of the most important claims and facts relevant to the argument of the following article. In this list, discuss the truthfulness of each claim and add at least one third party source for each one. Make sure that each source is highly credible and comes from an independent source other than the article itself. Ensure that the sources used are not social media websites or controversial sources or media sources that are not considered to be highly accuracte. Each source should be an encylopedia, tectbook, new sources with first hand reporting, or research oriented magazie. Give a truthfulness score that is one of [Likely True, Possibly True, Possible False, Likely False, Unknown, Opinion/Speculation] If the claim is an opinion then specify it. If the truthfulness of the claim cannot be determined then specify that. You should be highly critical of claims before claiming them to be likely true or likely false. If it is a tossup or hard to determine, the class will be unknown. Here is an example of the output required: {example_response}\"},\n",
    "        {\"role\": \"user\", \"content\": article_content}\n",
    "    ],\n",
    "    temperature=0.1\n",
    ")\n",
    "response_content = response[\"choices\"][0][\"message\"][\"content\"]\n",
    "for item in response_content.split(\"\\n\"):\n",
    "    print(item)"
   ]
  },
  {
   "cell_type": "code",
   "execution_count": 106,
   "id": "8ed2631e-43e2-4b27-8674-3ad5da952d55",
   "metadata": {},
   "outputs": [],
   "source": [
    "valid_sources = \"[encylopedia, textbook, sources with first hand reporting, research oriented magazine, Associated Press, BBC, C-SPAN, The Bureau of Investigative Journalism, The Economist, NPR, ProPublica, Reuters, USA Today, The Wall Street Journal, FAIR, Politifact]\"\n",
    "invalid_sources = \"[Fox News, The Guardian, Twitter, The Washington Post]\""
   ]
  },
  {
   "cell_type": "code",
   "execution_count": 98,
   "id": "606ea0c3-4aaf-43cb-952a-f4e2fdd6618b",
   "metadata": {},
   "outputs": [
    {
     "name": "stdout",
     "output_type": "stream",
     "text": [
      "1. President George W. Bush claimed that Saddam Hussein was on the verge of developing nuclear weapons and was hiding other weapons of mass destruction as a key reason for invading Iraq.\n",
      "    * Truthfulness: Likely True\n",
      "    * Source: BBC: Iraq war: The lies Tony Blair told George W Bush\n",
      "\n",
      "2. The real reason for the invasion of Iraq went beyond the claim that Saddam Hussein was developing nuclear weapons and included a long-range plan for \"regime change\" in the Middle East.\n",
      "    * Truthfulness: Likely True\n",
      "    * Source: The Guardian: The real reasons for the Iraq war\n",
      "\n",
      "3. The lack of evidence connecting Saddam Hussein to the 9/11 attacks made it difficult for Bush to rally the American people to support a war against Baghdad.\n",
      "    * Truthfulness: Likely True\n",
      "    * Source: The New York Times: Bush's Address to the Nation on Iraq\n",
      "\n",
      "4. The nuclear weapons gambit proved more fruitful than the 9/11 connection because supposedly reliable witnesses, in the persons of exiled anti-Saddam Iraqis (many on the U.S. government’s payroll), kept telling Bush and his advisers that the nuclear story was true.\n",
      "    * Truthfulness: Likely True\n",
      "    * Source: The Guardian: The real reasons for the Iraq war\n",
      "\n",
      "5. The U.S. and its allies insisted that the United Nations send in weapons inspectors to scour Iraq for evidence of a nuclear weapons program (as well as chemical and biological weapons).\n",
      "    * Truthfulness: Likely True\n",
      "    * Source: The New York Times: Bush's Address to the Nation on Iraq\n",
      "\n",
      "6. The inspectors could find no convincing evidence of a nuclear weapons program in Iraq.\n",
      "    * Truthfulness: Likely True\n",
      "    * Source: The New York Times: Bush's Address to the Nation on Iraq\n",
      "\n",
      "7. The various U.S. intelligence agencies are still trying to sort out how to tell when they are getting \"true\" intelligence and when they are being lied to.\n",
      "    * Truthfulness: Likely True\n",
      "    * Source: The Economist: The CIA and the art of spying\n",
      "\n",
      "8. The CIA et al. are in the market for academic assistance to create a \"permanent Intelligence Community Studies Board\" to coordinate programs in \"social and behavioral science research [that] might strengthen national security.\"\n",
      "    * Truthfulness: Likely True\n",
      "    * Source: The National Academies of Sciences, Engineering, and Medicine: Intelligence Analysis for Tomorrow: Advances from the Behavioral and Social Sciences\n",
      "\n",
      "9. The \"social and behavioral sciences\" cannot give the spy agencies what they want – a way of detecting lies that is better than their present standard procedures of polygraph tests and interrogations.\n",
      "    * Truthfulness: Likely True\n",
      "    * Source: The National Academies of Sciences, Engineering, and Medicine: Intelligence Analysis for Tomorrow: Advances from the Behavioral and Social Sciences\n",
      "\n",
      "10. The real problem is not to be found with the liars, but with the believers.\n",
      "    * Truthfulness: Likely True\n",
      "    * Source: The article itself\n",
      "\n",
      "11. U.S. intelligence agency personnel can tell, more often than not, that they are being lied to, but their superiors have different criteria for what is \"true\" than do the analysts.\n",
      "    * Truthfulness: Likely True\n",
      "    * Source: The article itself\n",
      "\n",
      "12. The intelligence specialists who send their usually accurate assessments up the line to the policy makers often hit a roadblock caused by \"group think,\" ideological blinkers, and a \"we know better\" attitude.\n",
      "    * Truthfulness: Likely True\n",
      "    * Source: The article itself\n",
      "\n",
      "13. Policymakers seem not to be able to rise above the ideological presumptions of their class – presumptions that underpin their self-confidence as they lead us all down slippery slopes.\n",
      "    * Truthfulness: Likely True\n",
      "    * Source: The article itself.\n"
     ]
    }
   ],
   "source": [
    "article_content = fake_news_articles.iloc[2][\"text\"]\n",
    "response = openai.ChatCompletion.create(\n",
    "    model=\"gpt-3.5-turbo\",\n",
    "    messages=[\n",
    "        {\"role\": \"system\", \"content\": \"You are NewsWise, a fact and claim detector responsible for extracting the most important facts and claims from a piece of text and fact checking them with the most credible sources.\"},\n",
    "        {\"role\": \"user\", \"content\": f\"Give me a numbered list of the most important claims and facts relevant to the argument of the following article. In this list, discuss the truthfulness of each claim and add at least one source for each one. The sources should be one of {valid_sources}. Most importantly, make sure the sources are not: {invalid_sources}. Give a truthfulness score that is one of [Likely True, Possibly True, Possible False, Likely False, Unknown, Opinion/Speculation] If the claim is an opinion then specify it. If the truthfulness of the claim cannot be determined then specify that. You should be highly critical of claims before claiming them to be likely true or likely false. If it is a tossup or hard to determine, the class will be unknown. Here is an example of the output required: {example_response}\"},\n",
    "        {\"role\": \"user\", \"content\": article_content}\n",
    "    ],\n",
    "    temperature=0\n",
    ")\n",
    "response_content = response[\"choices\"][0][\"message\"][\"content\"]\n",
    "for item in response_content.split(\"\\n\"):\n",
    "    print(item)"
   ]
  },
  {
   "cell_type": "code",
   "execution_count": 108,
   "id": "49a822b4-7040-4ae7-a96e-c32d693f894f",
   "metadata": {},
   "outputs": [
    {
     "name": "stdout",
     "output_type": "stream",
     "text": [
      "1. President George W. Bush claimed that Saddam Hussein was on the verge of developing nuclear weapons and was hiding other weapons of mass destruction as a key reason for the invasion of Iraq.\n",
      "    * Truthfulness: Possibly True\n",
      "    * Source: The Guardian: Bush's case for war - claims and reality\n",
      "\n",
      "2. The real reason for the invasion of Iraq was a long-range plan for \"regime change\" in the Middle East.\n",
      "    * Truthfulness: Opinion/Speculation\n",
      "    * Source: N/A\n",
      "\n",
      "3. The lack of evidence connecting Saddam Hussein to the 9/11 attacks made it difficult to rally the American people to support a war against Baghdad.\n",
      "    * Truthfulness: Possibly True\n",
      "    * Source: The New York Times: Bush's Address to the Nation: The Complete Text\n",
      "\n",
      "4. The U.S. leadership cadre had a worldview that demanded a mortally dangerous Iraq, and informants were willing to tell the tale of pending atomic weapons to precipitate the overthrow of Saddam.\n",
      "    * Truthfulness: Possibly True\n",
      "    * Source: The Guardian: Bush's case for war - claims and reality\n",
      "\n",
      "5. The U.S. and its allies insisted that the United Nations send in weapons inspectors to scour Iraq for evidence of a nuclear weapons program.\n",
      "    * Truthfulness: Possibly True\n",
      "    * Source: The New York Times: Bush's Address to the Nation: The Complete Text\n",
      "\n",
      "6. The inspectors could find no convincing evidence of a nuclear weapons program in Iraq.\n",
      "    * Truthfulness: Possibly True\n",
      "    * Source: The Guardian: Bush's case for war - claims and reality\n",
      "\n",
      "7. The various U.S. intelligence agencies are still trying to sort out how to tell when they are getting \"true\" intelligence and when they are being lied to.\n",
      "    * Truthfulness: Possibly True\n",
      "    * Source: NPR: Intelligence Agencies Struggle To Balance Openness And Security\n",
      "\n",
      "8. The Office of the Director of National Intelligence and the National Academies of Sciences, Engineering and Medicine are collaborating to create a permanent Intelligence Community Studies Board to coordinate programs in social and behavioral science research that might strengthen national security.\n",
      "    * Truthfulness: Possibly True\n",
      "    * Source: The National Academies of Sciences, Engineering, and Medicine: Intelligence Analysis for Tomorrow: Advances from the Behavioral and Social Sciences\n",
      "\n",
      "9. U.S. intelligence agency personnel can tell, more often than not, that they are being lied to, but their superiors have different criteria for what is \"true\" than do the analysts.\n",
      "    * Truthfulness: Possibly True\n",
      "    * Source: The Guardian: Bush's case for war - claims and reality\n",
      "\n",
      "10. Policymakers often have a \"we know better\" attitude and ideological blinkers that prevent them from accepting accurate assessments from intelligence specialists.\n",
      "    * Truthfulness: Possibly True\n",
      "    * Source: The Guardian: Bush's case for war - claims and reality\n"
     ]
    }
   ],
   "source": [
    "article_content = fake_news_articles.iloc[2][\"text\"]\n",
    "response = openai.ChatCompletion.create(\n",
    "    model=\"gpt-3.5-turbo\",\n",
    "    messages=[\n",
    "        {\"role\": \"system\", \"content\": \"You are NewsWise, a fact and claim detector responsible for extracting the most important facts and claims from a piece of text and fact checking them with the most credible sources.\"},\n",
    "        {\"role\": \"user\", \"content\": \"I will be providing an article and you will give me a numbered list of the top 10 or less most important claims and facts relevant to the argument of the following article that deserve to be verified. In this list, discuss the truthfulness of each claim and add at least one third party source for each one. Give a truthfulness score that is only one of [Possibly True, Possibly False, Unknown, Opinion/Speculation] If the claim is an opinion then specify it. If the truthfulness of the claim cannot be determined then specify that. You should be highly critical of claims before making a decision. If it is a tossup or hard to determine, the class will be unknown. If the article presents an opinion than the truthfulness can only be an Opinion.\"},\n",
    "        {\"role\": \"user\", \"content\": f\"The sources should be one of {valid_sources}. Most importantly, make sure that none of the sources are the article itself or in this list: {invalid_sources}. Here is an example of the output required: {example_response}\"},\n",
    "        {\"role\": \"user\", \"content\": f\"Here is the article:\"},\n",
    "        {\"role\": \"user\", \"content\": article_content}\n",
    "    ],\n",
    "    temperature=0\n",
    ")\n",
    "response_content = response[\"choices\"][0][\"message\"][\"content\"]\n",
    "for item in response_content.split(\"\\n\"):\n",
    "    print(item)"
   ]
  },
  {
   "cell_type": "code",
   "execution_count": null,
   "id": "0adc427d-aae2-4057-a266-4515fad045e4",
   "metadata": {},
   "outputs": [],
   "source": []
  }
 ],
 "metadata": {
  "kernelspec": {
   "display_name": "Python 3 (ipykernel)",
   "language": "python",
   "name": "python3"
  },
  "language_info": {
   "codemirror_mode": {
    "name": "ipython",
    "version": 3
   },
   "file_extension": ".py",
   "mimetype": "text/x-python",
   "name": "python",
   "nbconvert_exporter": "python",
   "pygments_lexer": "ipython3",
   "version": "3.9.1"
  }
 },
 "nbformat": 4,
 "nbformat_minor": 5
}
