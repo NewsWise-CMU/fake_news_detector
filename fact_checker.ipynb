{
 "cells": [
  {
   "cell_type": "code",
   "execution_count": 87,
   "id": "b279f441-261f-4586-bf63-a443a90c1e8b",
   "metadata": {},
   "outputs": [],
   "source": [
    "import os\n",
    "from dotenv import load_dotenv\n",
    "import openai\n",
    "import requests\n",
    "import json\n",
    "import pandas as pd"
   ]
  },
  {
   "cell_type": "code",
   "execution_count": 16,
   "id": "58d4abfd-d6a1-402a-b987-4bc5a8b346c5",
   "metadata": {},
   "outputs": [],
   "source": [
    "load_dotenv()\n",
    "CB_API_KEY = os.getenv('CB_API_KEY')\n",
    "OPENAI_API_KEY = os.getenv('OPEN_AI_KEY')"
   ]
  },
  {
   "cell_type": "code",
   "execution_count": 88,
   "id": "4e01ed09-6683-4fe5-8769-491412ecdb2c",
   "metadata": {},
   "outputs": [
    {
     "data": {
      "text/html": [
       "<div>\n",
       "<style scoped>\n",
       "    .dataframe tbody tr th:only-of-type {\n",
       "        vertical-align: middle;\n",
       "    }\n",
       "\n",
       "    .dataframe tbody tr th {\n",
       "        vertical-align: top;\n",
       "    }\n",
       "\n",
       "    .dataframe thead th {\n",
       "        text-align: right;\n",
       "    }\n",
       "</style>\n",
       "<table border=\"1\" class=\"dataframe\">\n",
       "  <thead>\n",
       "    <tr style=\"text-align: right;\">\n",
       "      <th></th>\n",
       "      <th>id</th>\n",
       "      <th>title</th>\n",
       "      <th>author</th>\n",
       "      <th>text</th>\n",
       "      <th>label</th>\n",
       "    </tr>\n",
       "  </thead>\n",
       "  <tbody>\n",
       "    <tr>\n",
       "      <th>0</th>\n",
       "      <td>0</td>\n",
       "      <td>House Dem Aide: We Didn’t Even See Comey’s Let...</td>\n",
       "      <td>Darrell Lucus</td>\n",
       "      <td>House Dem Aide: We Didn’t Even See Comey’s Let...</td>\n",
       "      <td>1</td>\n",
       "    </tr>\n",
       "    <tr>\n",
       "      <th>1</th>\n",
       "      <td>1</td>\n",
       "      <td>FLYNN: Hillary Clinton, Big Woman on Campus - ...</td>\n",
       "      <td>Daniel J. Flynn</td>\n",
       "      <td>Ever get the feeling your life circles the rou...</td>\n",
       "      <td>0</td>\n",
       "    </tr>\n",
       "    <tr>\n",
       "      <th>2</th>\n",
       "      <td>2</td>\n",
       "      <td>Why the Truth Might Get You Fired</td>\n",
       "      <td>Consortiumnews.com</td>\n",
       "      <td>Why the Truth Might Get You Fired October 29, ...</td>\n",
       "      <td>1</td>\n",
       "    </tr>\n",
       "    <tr>\n",
       "      <th>3</th>\n",
       "      <td>3</td>\n",
       "      <td>15 Civilians Killed In Single US Airstrike Hav...</td>\n",
       "      <td>Jessica Purkiss</td>\n",
       "      <td>Videos 15 Civilians Killed In Single US Airstr...</td>\n",
       "      <td>1</td>\n",
       "    </tr>\n",
       "    <tr>\n",
       "      <th>4</th>\n",
       "      <td>4</td>\n",
       "      <td>Iranian woman jailed for fictional unpublished...</td>\n",
       "      <td>Howard Portnoy</td>\n",
       "      <td>Print \\nAn Iranian woman has been sentenced to...</td>\n",
       "      <td>1</td>\n",
       "    </tr>\n",
       "    <tr>\n",
       "      <th>...</th>\n",
       "      <td>...</td>\n",
       "      <td>...</td>\n",
       "      <td>...</td>\n",
       "      <td>...</td>\n",
       "      <td>...</td>\n",
       "    </tr>\n",
       "    <tr>\n",
       "      <th>20795</th>\n",
       "      <td>20795</td>\n",
       "      <td>Rapper T.I.: Trump a ’Poster Child For White S...</td>\n",
       "      <td>Jerome Hudson</td>\n",
       "      <td>Rapper T. I. unloaded on black celebrities who...</td>\n",
       "      <td>0</td>\n",
       "    </tr>\n",
       "    <tr>\n",
       "      <th>20796</th>\n",
       "      <td>20796</td>\n",
       "      <td>N.F.L. Playoffs: Schedule, Matchups and Odds -...</td>\n",
       "      <td>Benjamin Hoffman</td>\n",
       "      <td>When the Green Bay Packers lost to the Washing...</td>\n",
       "      <td>0</td>\n",
       "    </tr>\n",
       "    <tr>\n",
       "      <th>20797</th>\n",
       "      <td>20797</td>\n",
       "      <td>Macy’s Is Said to Receive Takeover Approach by...</td>\n",
       "      <td>Michael J. de la Merced and Rachel Abrams</td>\n",
       "      <td>The Macy’s of today grew from the union of sev...</td>\n",
       "      <td>0</td>\n",
       "    </tr>\n",
       "    <tr>\n",
       "      <th>20798</th>\n",
       "      <td>20798</td>\n",
       "      <td>NATO, Russia To Hold Parallel Exercises In Bal...</td>\n",
       "      <td>Alex Ansary</td>\n",
       "      <td>NATO, Russia To Hold Parallel Exercises In Bal...</td>\n",
       "      <td>1</td>\n",
       "    </tr>\n",
       "    <tr>\n",
       "      <th>20799</th>\n",
       "      <td>20799</td>\n",
       "      <td>What Keeps the F-35 Alive</td>\n",
       "      <td>David Swanson</td>\n",
       "      <td>David Swanson is an author, activist, journa...</td>\n",
       "      <td>1</td>\n",
       "    </tr>\n",
       "  </tbody>\n",
       "</table>\n",
       "<p>20800 rows × 5 columns</p>\n",
       "</div>"
      ],
      "text/plain": [
       "          id                                              title  \\\n",
       "0          0  House Dem Aide: We Didn’t Even See Comey’s Let...   \n",
       "1          1  FLYNN: Hillary Clinton, Big Woman on Campus - ...   \n",
       "2          2                  Why the Truth Might Get You Fired   \n",
       "3          3  15 Civilians Killed In Single US Airstrike Hav...   \n",
       "4          4  Iranian woman jailed for fictional unpublished...   \n",
       "...      ...                                                ...   \n",
       "20795  20795  Rapper T.I.: Trump a ’Poster Child For White S...   \n",
       "20796  20796  N.F.L. Playoffs: Schedule, Matchups and Odds -...   \n",
       "20797  20797  Macy’s Is Said to Receive Takeover Approach by...   \n",
       "20798  20798  NATO, Russia To Hold Parallel Exercises In Bal...   \n",
       "20799  20799                          What Keeps the F-35 Alive   \n",
       "\n",
       "                                          author  \\\n",
       "0                                  Darrell Lucus   \n",
       "1                                Daniel J. Flynn   \n",
       "2                             Consortiumnews.com   \n",
       "3                                Jessica Purkiss   \n",
       "4                                 Howard Portnoy   \n",
       "...                                          ...   \n",
       "20795                              Jerome Hudson   \n",
       "20796                           Benjamin Hoffman   \n",
       "20797  Michael J. de la Merced and Rachel Abrams   \n",
       "20798                                Alex Ansary   \n",
       "20799                              David Swanson   \n",
       "\n",
       "                                                    text  label  \n",
       "0      House Dem Aide: We Didn’t Even See Comey’s Let...      1  \n",
       "1      Ever get the feeling your life circles the rou...      0  \n",
       "2      Why the Truth Might Get You Fired October 29, ...      1  \n",
       "3      Videos 15 Civilians Killed In Single US Airstr...      1  \n",
       "4      Print \\nAn Iranian woman has been sentenced to...      1  \n",
       "...                                                  ...    ...  \n",
       "20795  Rapper T. I. unloaded on black celebrities who...      0  \n",
       "20796  When the Green Bay Packers lost to the Washing...      0  \n",
       "20797  The Macy’s of today grew from the union of sev...      0  \n",
       "20798  NATO, Russia To Hold Parallel Exercises In Bal...      1  \n",
       "20799    David Swanson is an author, activist, journa...      1  \n",
       "\n",
       "[20800 rows x 5 columns]"
      ]
     },
     "execution_count": 88,
     "metadata": {},
     "output_type": "execute_result"
    }
   ],
   "source": [
    "fake_news_articles = pd.read_csv(\"data/fake-news/train.csv\")\n",
    "fake_news_articles"
   ]
  },
  {
   "cell_type": "code",
   "execution_count": 22,
   "id": "0b85dad8-82ca-40fe-8774-26e55e63f758",
   "metadata": {},
   "outputs": [],
   "source": [
    "article_content = 'WILMINGTON, Del. — Dominion Voting Systems’ $1.6 billion defamation lawsuit against Fox News has been delayed on the eve of its scheduled start date, an official for the court said Sunday.The conclusion of the jury selection process and the start of opening statements, which were set for Monday morning, have been pushed to Tuesday morning at 9 a.m. ET, according to a statement from Delaware Superior Court.Spokespeople for Fox and Dominion did not immediately provide statements when asked for comment after the delay was announced Sunday night.Dominion, which sells voting machines and election software, claimed it was defamed by Fox Corp. and its cable TV networks after Fox aired false claims that the company had rigged the 2020 election against former President Donald Trump.Fox has argued that Dominion has not met the legal standard for defamation, and that the statements made about Dominion on its air were protected by the First Amendment.The Wall Street Journal reported earlier Sunday that Fox has made a last-minute push to settle the lawsuit out of court.Most defamation cases settle out of court. But as recently as Saturday, the possibility of Dominion and Fox avoiding trial seemed as unlikely as ever. “In the coming weeks, we will prove Fox spread lies causing enormous damage to Dominion. We look forward to trial,” a Dominion spokesman told CNBC on Saturday morning.Judge Eric Davis, who is presiding over the case, said in a statement from the court that he will formally announce the delay from his courtroom on Monday at 9 a.m. ET.'"
   ]
  },
  {
   "cell_type": "code",
   "execution_count": 144,
   "id": "05ebf18c-3cad-4f23-87dd-7017a2c71ac3",
   "metadata": {},
   "outputs": [],
   "source": [
    "article_content = fake_news_articles.iloc[0][\"text\"]"
   ]
  },
  {
   "cell_type": "code",
   "execution_count": 145,
   "id": "0a117844-9440-4157-9b5d-132aea4c40b8",
   "metadata": {},
   "outputs": [
    {
     "data": {
      "text/plain": [
       "'House Dem Aide: We Didn’t Even See Comey’s Letter Until Jason Chaffetz Tweeted It By Darrell Lucus on October 30, 2016 Subscribe Jason Chaffetz on the stump in American Fork, Utah ( image courtesy Michael Jolley, available under a Creative Commons-BY license) \\nWith apologies to Keith Olbermann, there is no doubt who the Worst Person in The World is this week–FBI Director James Comey. But according to a House Democratic aide, it looks like we also know who the second-worst person is as well. It turns out that when Comey sent his now-infamous letter announcing that the FBI was looking into emails that may be related to Hillary Clinton’s email server, the ranking Democrats on the relevant committees didn’t hear about it from Comey. They found out via a tweet from one of the Republican committee chairmen. \\nAs we now know, Comey notified the Republican chairmen and Democratic ranking members of the House Intelligence, Judiciary, and Oversight committees that his agency was reviewing emails it had recently discovered in order to see if they contained classified information. Not long after this letter went out, Oversight Committee Chairman Jason Chaffetz set the political world ablaze with this tweet. FBI Dir just informed me, \"The FBI has learned of the existence of emails that appear to be pertinent to the investigation.\" Case reopened \\n— Jason Chaffetz (@jasoninthehouse) October 28, 2016 \\nOf course, we now know that this was not the case . Comey was actually saying that it was reviewing the emails in light of “an unrelated case”–which we now know to be Anthony Weiner’s sexting with a teenager. But apparently such little things as facts didn’t matter to Chaffetz. The Utah Republican had already vowed to initiate a raft of investigations if Hillary wins–at least two years’ worth, and possibly an entire term’s worth of them. Apparently Chaffetz thought the FBI was already doing his work for him–resulting in a tweet that briefly roiled the nation before cooler heads realized it was a dud. \\nBut according to a senior House Democratic aide, misreading that letter may have been the least of Chaffetz’ sins. That aide told Shareblue that his boss and other Democrats didn’t even know about Comey’s letter at the time–and only found out when they checked Twitter. “Democratic Ranking Members on the relevant committees didn’t receive Comey’s letter until after the Republican Chairmen. In fact, the Democratic Ranking Members didn’ receive it until after the Chairman of the Oversight and Government Reform Committee, Jason Chaffetz, tweeted it out and made it public.” \\nSo let’s see if we’ve got this right. The FBI director tells Chaffetz and other GOP committee chairmen about a major development in a potentially politically explosive investigation, and neither Chaffetz nor his other colleagues had the courtesy to let their Democratic counterparts know about it. Instead, according to this aide, he made them find out about it on Twitter. \\nThere has already been talk on Daily Kos that Comey himself provided advance notice of this letter to Chaffetz and other Republicans, giving them time to turn on the spin machine. That may make for good theater, but there is nothing so far that even suggests this is the case. After all, there is nothing so far that suggests that Comey was anything other than grossly incompetent and tone-deaf. \\nWhat it does suggest, however, is that Chaffetz is acting in a way that makes Dan Burton and Darrell Issa look like models of responsibility and bipartisanship. He didn’t even have the decency to notify ranking member Elijah Cummings about something this explosive. If that doesn’t trample on basic standards of fairness, I don’t know what does. \\nGranted, it’s not likely that Chaffetz will have to answer for this. He sits in a ridiculously Republican district anchored in Provo and Orem; it has a Cook Partisan Voting Index of R+25, and gave Mitt Romney a punishing 78 percent of the vote in 2012. Moreover, the Republican House leadership has given its full support to Chaffetz’ planned fishing expedition. But that doesn’t mean we can’t turn the hot lights on him. After all, he is a textbook example of what the House has become under Republican control. And he is also the Second Worst Person in the World. About Darrell Lucus \\nDarrell is a 30-something graduate of the University of North Carolina who considers himself a journalist of the old school. An attempt to turn him into a member of the religious right in college only succeeded in turning him into the religious right\\'s worst nightmare--a charismatic Christian who is an unapologetic liberal. His desire to stand up for those who have been scared into silence only increased when he survived an abusive three-year marriage. You may know him on Daily Kos as Christian Dem in NC . Follow him on Twitter @DarrellLucus or connect with him on Facebook . Click here to buy Darrell a Mello Yello. Connect'"
      ]
     },
     "execution_count": 145,
     "metadata": {},
     "output_type": "execute_result"
    }
   ],
   "source": [
    "article_content"
   ]
  },
  {
   "cell_type": "code",
   "execution_count": 154,
   "id": "1586b057-e369-4c34-9361-9968c4212431",
   "metadata": {},
   "outputs": [],
   "source": [
    "response = openai.ChatCompletion.create(\n",
    "    model=\"gpt-3.5-turbo\",\n",
    "    messages=[\n",
    "        {\"role\": \"system\", \"content\": \"You are fact and claim detector responsible for extracting the most important facts and claims from a piece of text, usually an article. You will always return a numbered list and nothing else. Each item in the numbered list will always start with the topic of the article.\"},\n",
    "        {\"role\": \"user\", \"content\": \"Give me a numbered list of the most important facts and claims relevant to the argument of the following article. Make sure that each item in the list is a sentence that contains the fact or claim and any context from the article needed to fact check it. Also give me the argument of the article in a few words.\"},\n",
    "        {\"role\": \"user\", \"content\": article_content}\n",
    "    ]\n",
    ")"
   ]
  },
  {
   "cell_type": "code",
   "execution_count": 160,
   "id": "07a0f610-ab5a-463c-ad53-3f594476aa30",
   "metadata": {},
   "outputs": [
    {
     "data": {
      "text/plain": [
       "(\"Democrats on relevant committees knew about the FBI's investigation into Clinton's emails when Republicans did, through a tweet by the Oversight Committee's chairman, Jason Chaffetz.\",\n",
       " [\"Democrats on the relevant committees did not receive Comey's letter about the FBI's investigation into Clinton's emails until after the Republican Chairmen did, and only received it after Jason Chaffetz tweeted about it and made it public.\",\n",
       "  'The FBI director gave advance notice of this letter to Chaffetz and other Republicans, and they\\xa0did not let their Democratic counterparts know about it.',\n",
       "  \"acted irresponsibly by not notifying ranking member Elijah Cummings about something as explosive as the news of Comey's letter.\",\n",
       "  'violates the basic standards of fairness.'])"
      ]
     },
     "execution_count": 160,
     "metadata": {},
     "output_type": "execute_result"
    }
   ],
   "source": [
    "response_content = response[\"choices\"][0][\"message\"][\"content\"]\n",
    "topic = response_content[response_content.find(\"Argument: \") + 10:response_content.find(\"\\n\")]\n",
    "facts = response_content[response_content.find(\"\\n\") + 2:]\n",
    "facts = [fact[fact.find(\" \") + 1:] for fact in facts.split(\"\\n\")]\n",
    "topic, facts"
   ]
  },
  {
   "cell_type": "code",
   "execution_count": 156,
   "id": "85be2ca2-4eba-473f-9f44-5aea75f990a2",
   "metadata": {},
   "outputs": [
    {
     "data": {
      "text/plain": [
       "<OpenAIObject chat.completion id=chatcmpl-76AOYefvedKtHVQZmcp9jSQiHTYRj at 0x1a06c697360> JSON: {\n",
       "  \"choices\": [\n",
       "    {\n",
       "      \"finish_reason\": \"stop\",\n",
       "      \"index\": 0,\n",
       "      \"message\": {\n",
       "        \"content\": \"Argument: Democrats on relevant committees knew about the FBI's investigation into Clinton's emails when Republicans did, through a tweet by the Oversight Committee's chairman, Jason Chaffetz.\\n1. Democrats on the relevant committees did not receive Comey's letter about the FBI's investigation into Clinton's emails until after the Republican Chairmen did, and only received it after Jason Chaffetz tweeted about it and made it public.\\n2. The FBI director gave advance notice of this letter to Chaffetz and other Republicans, and they\\u00a0did not let their Democratic counterparts know about it.\\n3.\\u00a0Chaffetz acted irresponsibly by not notifying ranking member Elijah Cummings about something as explosive as the news of Comey's letter.\\n4.\\u00a0Chaffetz's\\u00a0behavior violates the basic standards of fairness.\",\n",
       "        \"role\": \"assistant\"\n",
       "      }\n",
       "    }\n",
       "  ],\n",
       "  \"created\": 1681704282,\n",
       "  \"id\": \"chatcmpl-76AOYefvedKtHVQZmcp9jSQiHTYRj\",\n",
       "  \"model\": \"gpt-3.5-turbo-0301\",\n",
       "  \"object\": \"chat.completion\",\n",
       "  \"usage\": {\n",
       "    \"completion_tokens\": 159,\n",
       "    \"prompt_tokens\": 1169,\n",
       "    \"total_tokens\": 1328\n",
       "  }\n",
       "}"
      ]
     },
     "execution_count": 156,
     "metadata": {},
     "output_type": "execute_result"
    }
   ],
   "source": [
    "response"
   ]
  },
  {
   "cell_type": "code",
   "execution_count": 101,
   "id": "9988e784-2a62-40ea-9459-da725bdcac41",
   "metadata": {},
   "outputs": [
    {
     "name": "stdout",
     "output_type": "stream",
     "text": [
      "{'version': '2', 'claim': \"A House Democratic aide claims they did not receive Comey's letter regarding an investigation of Clinton's emails until after the letter had been tweeted by a Republican committee chairman. ; The ranking Democrats on relevant committees did not hear about Comey's letter from Comey himself, but from a tweet from a Republican committee chairman, according to a senior House Democratic aide. \", 'results': [{'text': \"A House Democratic aide claims they did not receive Comey's letter regarding an investigation of Clinton's emails until after the letter had been tweeted by a Republican committee chairman. ; The ranking Democrats on relevant committees did not hear about Comey's letter from Comey himself, but from a tweet from a Republican committee chairman, according to a senior House Democratic aide. \", 'index': 0, 'score': 0.7900983883}]}\n"
     ]
    }
   ],
   "source": [
    "api_endpoint = f\"https://idir.uta.edu/claimbuster/api/v2/score/text/{topic + '; ' + facts[0]}\"\n",
    "request_headers = {\"x-api-key\": CB_API_KEY}\n",
    "\n",
    "api_response = requests.get(url=api_endpoint, headers=request_headers)\n",
    "\n",
    "print(api_response.json())"
   ]
  },
  {
   "cell_type": "code",
   "execution_count": 98,
   "id": "c9dc9215-423e-4e24-81be-579bb6de1a50",
   "metadata": {},
   "outputs": [
    {
     "name": "stdout",
     "output_type": "stream",
     "text": [
      "{'claim': \"The ranking Democrats on relevant committees did not hear about Comey's letter from Comey himself, but from a tweet from a Republican committee chairman, according to a senior House Democratic aide. \", 'origin': 'Claim Checker - Knowledge Bases', 'justification': []}\n"
     ]
    }
   ],
   "source": [
    "api_endpoint = f\"https://idir.uta.edu/claimbuster/api/v2/query/knowledge_bases/{facts[0]}\"\n",
    "request_headers = {\"x-api-key\": CB_API_KEY}\n",
    "\n",
    "api_response = requests.get(url=api_endpoint, headers=request_headers)\n",
    "\n",
    "print(api_response.json())"
   ]
  },
  {
   "cell_type": "code",
   "execution_count": 99,
   "id": "de0c3e0f-f8bc-4480-8c1a-aeec0d3ffc1c",
   "metadata": {},
   "outputs": [
    {
     "name": "stdout",
     "output_type": "stream",
     "text": [
      "{'claim': \"The ranking Democrats on relevant committees did not hear about Comey's letter from Comey himself, but from a tweet from a Republican committee chairman, according to a senior House Democratic aide. \", 'origin': 'Claim Matcher', 'justification': []}\n"
     ]
    }
   ],
   "source": [
    "api_endpoint = f\"https://idir.uta.edu/claimbuster/api/v2/query/fact_matcher/{facts[0]}\"\n",
    "request_headers = {\"x-api-key\": CB_API_KEY}\n",
    "\n",
    "api_response = requests.get(url=api_endpoint, headers=request_headers)\n",
    "\n",
    "print(api_response.json())"
   ]
  },
  {
   "cell_type": "code",
   "execution_count": 161,
   "id": "a0b2c086-41b8-4fb2-83e5-8e7626b4a144",
   "metadata": {},
   "outputs": [],
   "source": [
    "def score_facts_for_validation(facts):\n",
    "    api_endpoint = f\"https://idir.uta.edu/claimbuster/api/v2/score/text/sentences/{' '.join(facts)}\"\n",
    "    request_headers = {\"x-api-key\": CB_API_KEY}\n",
    "\n",
    "    api_response = requests.get(url=api_endpoint, headers=request_headers)\n",
    "\n",
    "    return api_response.json()['results']\n",
    "\n",
    "def get_justification(fact):\n",
    "    api_endpoint = f\"https://idir.uta.edu/claimbuster/api/v2/query/knowledge_bases/{fact}\"\n",
    "    request_headers = {\"x-api-key\": CB_API_KEY}\n",
    "\n",
    "    api_response = requests.get(url=api_endpoint, headers=request_headers)\n",
    "\n",
    "    return api_response.json()['justification']\n",
    "\n",
    "def get_matching_facts(fact):\n",
    "    api_endpoint = f\"https://idir.uta.edu/claimbuster/api/v2/query/fact_matcher/{fact}\"\n",
    "    request_headers = {\"x-api-key\": CB_API_KEY}\n",
    "\n",
    "    api_response = requests.get(url=api_endpoint, headers=request_headers)\n",
    "\n",
    "    return api_response.json()['justification']\n",
    "    \n",
    "def get_topic_and_claims(article_text):\n",
    "    response = openai.ChatCompletion.create(\n",
    "        model=\"gpt-3.5-turbo\",\n",
    "        messages=[\n",
    "            {\"role\": \"system\", \"content\": \"You are fact and claim detector responsible for extracting the most important facts and claims from a piece of text, usually an article. You will always return a numbered list and nothing else. Each item in the numbered list will always start with the topic of the article.\"},\n",
    "            {\"role\": \"user\", \"content\": \"Give me a numbered list of the most important facts and claims relevant to the argument of the following article. Make sure that each item in the list is a sentence that contains the fact or claim and any context from the article needed to fact check it. Also give me the argument of the article in a few words.\"},\n",
    "            {\"role\": \"user\", \"content\": article_content}\n",
    "        ]\n",
    "    )\n",
    "    \n",
    "    response_content = response[\"choices\"][0][\"message\"][\"content\"]\n",
    "    topic = response_content[response_content.find(\"Argument: \") + 10:response_content.find(\"\\n\")]\n",
    "    facts = response_content[response_content.find(\"\\n\") + 2:]\n",
    "    facts = [fact[fact.find(\" \") + 1:] for fact in facts.split(\"\\n\")]\n",
    "    return topic, facts\n",
    "\n",
    "def validate_facts(topic, facts):\n",
    "    topic_prefixed_facts = [topic[:-1] + \"; \" + fact for fact in facts]\n",
    "    facts = [topic] + facts\n",
    "    topic_prefixed_facts = [topic] + facts\n",
    "    \n",
    "    scores = score_facts_for_validation(topic_prefixed_facts)\n",
    "    \n",
    "    print(f\"Topic: {topic}\")\n",
    "    for i in range(len(facts)):\n",
    "        print(\"------------------------\")\n",
    "        print(f\"Fact: {facts[i]}\")\n",
    "        print(f\"Score: {scores[i]['score']}\")\n",
    "        if scores[i]['score'] > 0.5:\n",
    "            justification = get_justification(facts[i])\n",
    "            print(f\"Justification: {justification}\")\n",
    "            matches = get_matching_facts(facts[i])\n",
    "            print(f\"Matches: {matches}\")"
   ]
  },
  {
   "cell_type": "code",
   "execution_count": 168,
   "id": "44e2b4fb-34f8-4d8a-9cfe-911494cb2c61",
   "metadata": {},
   "outputs": [],
   "source": [
    "topic, facts = get_topic_and_claims(article_content)"
   ]
  },
  {
   "cell_type": "code",
   "execution_count": 169,
   "id": "b84e9e64-70fb-426b-aa4a-91002a97c6df",
   "metadata": {},
   "outputs": [
    {
     "name": "stdout",
     "output_type": "stream",
     "text": [
      "Topic: The article is a transcript of a Republican debate where various candidates answer questions and present their political stances.\n",
      "------------------------\n",
      "Fact: The article is a transcript of a Republican debate where various candidates answer questions and present their political stances.\n",
      "Score: 0.2396263949\n",
      "------------------------\n",
      "Fact: Jeb Bush claims he applied conservative principles in a purple state effectively and created 1.3 million jobs.\n",
      "Score: 0.2396263949\n",
      "------------------------\n",
      "Fact: Megyn Kelly confronts Donald Trump for making several disparaging comments about women's looks, including a comment about a Celebrity Apprentice contestant being on her knees. Kelly asks whether he has the temperament to be president and how he'll defend against charges from Hillary Clinton that he's part of the \"war on women.\" Trump later argues that the country has more important things to worry about than political correctness.\n",
      "Score: 0.8699555213\n",
      "Justification: []\n",
      "Matches: []\n",
      "------------------------\n",
      "Fact: Chris Wallace asks Ted Cruz how he plans to win the election when he's a divisive figure and has a toxic relationship with GOP leaders in Congress. Cruz argues that the American people are looking for someone to speak the truth and he won't compromise his beliefs to agree with lobbyists and special interests.\n",
      "Score: 0.6205029763\n",
      "Justification: []\n",
      "Matches: []\n",
      "------------------------\n",
      "Fact: Bret Baier confronts Governor Chris Christie about his poor record with New Jersey's economy, including nine credit rating downgrades, a pension crisis, and the third highest foreclosure rate in the country. Christie claims he balanced an $11 billion deficit with no tax increases and brought the state back to having private sector job growth.\n",
      "Score: 0.5330484968\n",
      "Justification: []\n",
      "Matches: []\n",
      "------------------------\n",
      "Fact: Megyn Kelly asks Governor Scott Walker about his position on abortion, particularly about whether he would let a mother die rather than have an abortion. Walker argues that he's pro-life and believes that the child can be protected while also protecting the mother's life.\n",
      "Score: 0.479564745\n",
      "------------------------\n",
      "Fact: Chris Wallace asks Governor Mike Huckabee how he plans to persuade enough Independents and Democrats to get elected in 2016 when he favors a constitutional amendment banning same-sex marriage and abortions, contrary to polls. Huckabee argues that he takes a bold position by invoking the Fifth and Fourteenth Amendments to protect the unborn child's rights.\n",
      "Score: 0.3464058734\n"
     ]
    }
   ],
   "source": [
    "validate_facts(topic, facts)"
   ]
  },
  {
   "cell_type": "code",
   "execution_count": null,
   "id": "07e2a6fd-32a4-4ddc-9232-9bdbd880e4ba",
   "metadata": {},
   "outputs": [],
   "source": []
  }
 ],
 "metadata": {
  "kernelspec": {
   "display_name": "Python 3 (ipykernel)",
   "language": "python",
   "name": "python3"
  },
  "language_info": {
   "codemirror_mode": {
    "name": "ipython",
    "version": 3
   },
   "file_extension": ".py",
   "mimetype": "text/x-python",
   "name": "python",
   "nbconvert_exporter": "python",
   "pygments_lexer": "ipython3",
   "version": "3.9.1"
  }
 },
 "nbformat": 4,
 "nbformat_minor": 5
}
